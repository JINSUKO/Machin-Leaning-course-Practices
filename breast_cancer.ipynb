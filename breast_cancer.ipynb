{
 "cells": [
  {
   "cell_type": "code",
   "id": "initial_id",
   "metadata": {
    "collapsed": true,
    "ExecuteTime": {
     "end_time": "2024-06-03T08:14:26.109642Z",
     "start_time": "2024-06-03T08:14:26.075919Z"
    }
   },
   "source": [
    "from sklearn.datasets import load_breast_cancer\n",
    "import pandas as pd\n",
    "\n",
    "cancer_dataset = load_breast_cancer()\n",
    "\n",
    "cancer_columns = cancer_dataset['feature_names']\n",
    "\n",
    "cancer_data = pd.DataFrame(cancer_dataset.data)\n",
    "\n",
    "cancer_data_str = pd.DataFrame()\n",
    "cancer_data_str[cancer_columns] = cancer_data\n",
    "\n",
    "y_target = cancer_dataset.target"
   ],
   "outputs": [],
   "execution_count": 63
  },
  {
   "metadata": {
    "ExecuteTime": {
     "end_time": "2024-06-03T08:14:26.310398Z",
     "start_time": "2024-06-03T08:14:26.281034Z"
    }
   },
   "cell_type": "code",
   "source": "cancer_columns, cancer_data[:5], cancer_data_str[:5]",
   "id": "7ebb7704f685dd4a",
   "outputs": [
    {
     "data": {
      "text/plain": [
       "(array(['mean radius', 'mean texture', 'mean perimeter', 'mean area',\n",
       "        'mean smoothness', 'mean compactness', 'mean concavity',\n",
       "        'mean concave points', 'mean symmetry', 'mean fractal dimension',\n",
       "        'radius error', 'texture error', 'perimeter error', 'area error',\n",
       "        'smoothness error', 'compactness error', 'concavity error',\n",
       "        'concave points error', 'symmetry error',\n",
       "        'fractal dimension error', 'worst radius', 'worst texture',\n",
       "        'worst perimeter', 'worst area', 'worst smoothness',\n",
       "        'worst compactness', 'worst concavity', 'worst concave points',\n",
       "        'worst symmetry', 'worst fractal dimension'], dtype='<U23'),\n",
       "       0      1       2       3        4        5       6        7       8   \\\n",
       " 0  17.99  10.38  122.80  1001.0  0.11840  0.27760  0.3001  0.14710  0.2419   \n",
       " 1  20.57  17.77  132.90  1326.0  0.08474  0.07864  0.0869  0.07017  0.1812   \n",
       " 2  19.69  21.25  130.00  1203.0  0.10960  0.15990  0.1974  0.12790  0.2069   \n",
       " 3  11.42  20.38   77.58   386.1  0.14250  0.28390  0.2414  0.10520  0.2597   \n",
       " 4  20.29  14.34  135.10  1297.0  0.10030  0.13280  0.1980  0.10430  0.1809   \n",
       " \n",
       "         9   ...     20     21      22      23      24      25      26      27  \\\n",
       " 0  0.07871  ...  25.38  17.33  184.60  2019.0  0.1622  0.6656  0.7119  0.2654   \n",
       " 1  0.05667  ...  24.99  23.41  158.80  1956.0  0.1238  0.1866  0.2416  0.1860   \n",
       " 2  0.05999  ...  23.57  25.53  152.50  1709.0  0.1444  0.4245  0.4504  0.2430   \n",
       " 3  0.09744  ...  14.91  26.50   98.87   567.7  0.2098  0.8663  0.6869  0.2575   \n",
       " 4  0.05883  ...  22.54  16.67  152.20  1575.0  0.1374  0.2050  0.4000  0.1625   \n",
       " \n",
       "        28       29  \n",
       " 0  0.4601  0.11890  \n",
       " 1  0.2750  0.08902  \n",
       " 2  0.3613  0.08758  \n",
       " 3  0.6638  0.17300  \n",
       " 4  0.2364  0.07678  \n",
       " \n",
       " [5 rows x 30 columns],\n",
       "    mean radius  mean texture  mean perimeter  mean area  mean smoothness  \\\n",
       " 0        17.99         10.38          122.80     1001.0          0.11840   \n",
       " 1        20.57         17.77          132.90     1326.0          0.08474   \n",
       " 2        19.69         21.25          130.00     1203.0          0.10960   \n",
       " 3        11.42         20.38           77.58      386.1          0.14250   \n",
       " 4        20.29         14.34          135.10     1297.0          0.10030   \n",
       " \n",
       "    mean compactness  mean concavity  mean concave points  mean symmetry  \\\n",
       " 0           0.27760          0.3001              0.14710         0.2419   \n",
       " 1           0.07864          0.0869              0.07017         0.1812   \n",
       " 2           0.15990          0.1974              0.12790         0.2069   \n",
       " 3           0.28390          0.2414              0.10520         0.2597   \n",
       " 4           0.13280          0.1980              0.10430         0.1809   \n",
       " \n",
       "    mean fractal dimension  ...  worst radius  worst texture  worst perimeter  \\\n",
       " 0                 0.07871  ...         25.38          17.33           184.60   \n",
       " 1                 0.05667  ...         24.99          23.41           158.80   \n",
       " 2                 0.05999  ...         23.57          25.53           152.50   \n",
       " 3                 0.09744  ...         14.91          26.50            98.87   \n",
       " 4                 0.05883  ...         22.54          16.67           152.20   \n",
       " \n",
       "    worst area  worst smoothness  worst compactness  worst concavity  \\\n",
       " 0      2019.0            0.1622             0.6656           0.7119   \n",
       " 1      1956.0            0.1238             0.1866           0.2416   \n",
       " 2      1709.0            0.1444             0.4245           0.4504   \n",
       " 3       567.7            0.2098             0.8663           0.6869   \n",
       " 4      1575.0            0.1374             0.2050           0.4000   \n",
       " \n",
       "    worst concave points  worst symmetry  worst fractal dimension  \n",
       " 0                0.2654          0.4601                  0.11890  \n",
       " 1                0.1860          0.2750                  0.08902  \n",
       " 2                0.2430          0.3613                  0.08758  \n",
       " 3                0.2575          0.6638                  0.17300  \n",
       " 4                0.1625          0.2364                  0.07678  \n",
       " \n",
       " [5 rows x 30 columns])"
      ]
     },
     "execution_count": 64,
     "metadata": {},
     "output_type": "execute_result"
    }
   ],
   "execution_count": 64
  },
  {
   "metadata": {},
   "cell_type": "markdown",
   "source": "데이터 분류 먼저 진행 <- 1 안",
   "id": "8eb67fba1f67c48"
  },
  {
   "metadata": {
    "ExecuteTime": {
     "end_time": "2024-06-03T08:14:26.557510Z",
     "start_time": "2024-06-03T08:14:26.539384Z"
    }
   },
   "cell_type": "code",
   "source": [
    "from sklearn.model_selection import train_test_split\n",
    "\n",
    "X_train, X_test, y_train, y_test = train_test_split(cancer_data_str, y_target,  random_state=42)"
   ],
   "id": "df565a379e3538f8",
   "outputs": [],
   "execution_count": 65
  },
  {
   "metadata": {},
   "cell_type": "markdown",
   "source": "데이터별로 스케일링 진행",
   "id": "3c4d3fb554328a11"
  },
  {
   "metadata": {
    "ExecuteTime": {
     "end_time": "2024-06-03T08:14:26.987985Z",
     "start_time": "2024-06-03T08:14:26.905124Z"
    }
   },
   "cell_type": "code",
   "source": [
    "from sklearn.preprocessing import StandardScaler\n",
    "from sklearn.preprocessing import MinMaxScaler\n",
    "from sklearn.preprocessing import Normalizer\n",
    "from sklearn.preprocessing import RobustScaler\n",
    "\n",
    "standardscaler = StandardScaler()\n",
    "\n",
    "X_train_std = standardscaler.fit_transform(X_train)\n",
    "X_test_std = standardscaler.fit_transform(X_test)\n",
    "\n",
    "minmaxscaler = MinMaxScaler()\n",
    "\n",
    "X_train_minmax = minmaxscaler.fit_transform(X_train)\n",
    "X_test_minmax = minmaxscaler.fit_transform(X_test)\n",
    "\n",
    "normalizer = Normalizer()\n",
    "\n",
    "X_train_normal = normalizer.fit_transform(X_train)\n",
    "X_test_normal = normalizer.fit_transform(X_test)\n",
    "\n",
    "robustscaler = RobustScaler()\n",
    "\n",
    "X_train_robust = robustscaler.fit_transform(X_train)\n",
    "X_test_robust = robustscaler.fit_transform(X_test)\n"
   ],
   "id": "d80d7e187d3e19b1",
   "outputs": [],
   "execution_count": 66
  },
  {
   "metadata": {},
   "cell_type": "markdown",
   "source": "로지스틱 회귀 진행",
   "id": "81b845f5028578d9"
  },
  {
   "metadata": {
    "ExecuteTime": {
     "end_time": "2024-06-03T08:14:27.197471Z",
     "start_time": "2024-06-03T08:14:27.118406Z"
    }
   },
   "cell_type": "code",
   "source": [
    "from sklearn.linear_model import LogisticRegression\n",
    "\n",
    "lgregmodel_std = LogisticRegression()\n",
    "\n",
    "lgregmodel_std.fit(X_train_std, y_train)\n",
    "\n",
    "print('Data split first(std-train):', lgregmodel_std.score(X_train_std, y_train))\n",
    "print('Data split first(std-test):', lgregmodel_std.score(X_test_std, y_test))\n",
    "\n",
    "print()\n",
    "\n",
    "lgregmodel_minmax = LogisticRegression()\n",
    "\n",
    "lgregmodel_minmax.fit(X_train_minmax, y_train)\n",
    "\n",
    "print('Data split first(minmax-train):', lgregmodel_minmax.score(X_train_minmax, y_train))\n",
    "print('Data split first(minmax-test):', lgregmodel_minmax.score(X_test_minmax, y_test))\n",
    "\n",
    "print()\n",
    "\n",
    "lgregmodel_normal = LogisticRegression()\n",
    "\n",
    "lgregmodel_normal.fit(X_train_normal, y_train)\n",
    "\n",
    "print('Data split first(normal-train):', lgregmodel_normal.score(X_train_normal, y_train))\n",
    "print('Data split first(normal-test):', lgregmodel_normal.score(X_test_normal, y_test))\n",
    "\n",
    "print()\n",
    "\n",
    "lgregmodel_robust = LogisticRegression()\n",
    "\n",
    "lgregmodel_robust.fit(X_train_robust, y_train)\n",
    "\n",
    "print('Data split first(robust-train):', lgregmodel_robust.score(X_train_robust, y_train))\n",
    "print('Data split first(robust-test):', lgregmodel_robust.score(X_test_robust, y_test))\n"
   ],
   "id": "a12eeaa04d85fc70",
   "outputs": [
    {
     "name": "stdout",
     "output_type": "stream",
     "text": [
      "Data split first(std-train): 0.9859154929577465\n",
      "Data split first(std-test): 0.986013986013986\n",
      "\n",
      "Data split first(minmax-train): 0.9671361502347418\n",
      "Data split first(minmax-test): 0.9440559440559441\n",
      "\n",
      "Data split first(normal-train): 0.7511737089201878\n",
      "Data split first(normal-test): 0.7902097902097902\n",
      "\n",
      "Data split first(robust-train): 0.9882629107981221\n",
      "Data split first(robust-test): 0.9790209790209791\n"
     ]
    }
   ],
   "execution_count": 67
  },
  {
   "metadata": {},
   "cell_type": "markdown",
   "source": "",
   "id": "a18422f7e9a42306"
  },
  {
   "metadata": {},
   "cell_type": "markdown",
   "source": "데이터 분류 나중에 진행 <- 2안",
   "id": "a45dc3b412b1db5d"
  },
  {
   "metadata": {
    "ExecuteTime": {
     "end_time": "2024-06-03T08:14:27.281649Z",
     "start_time": "2024-06-03T08:14:27.201993Z"
    }
   },
   "cell_type": "code",
   "source": [
    "X_std = standardscaler.fit_transform(cancer_data_str)\n",
    "\n",
    "X_minmax = minmaxscaler.fit_transform(cancer_data_str)\n",
    "\n",
    "X_normal = normalizer.fit_transform(cancer_data_str)\n",
    "\n",
    "X_robust = robustscaler.fit_transform(cancer_data_str)"
   ],
   "id": "e367dd8f932feca6",
   "outputs": [],
   "execution_count": 68
  },
  {
   "metadata": {},
   "cell_type": "markdown",
   "source": "데이터 분류 진행",
   "id": "36efd32d1459698"
  },
  {
   "metadata": {
    "ExecuteTime": {
     "end_time": "2024-06-03T08:21:18.388810Z",
     "start_time": "2024-06-03T08:21:18.377354Z"
    }
   },
   "cell_type": "code",
   "source": [
    "X_std_train, X_std_test, y_train, y_test = train_test_split(X_std, y_target, random_state=42)\n",
    "\n",
    "X_minmax_train, X_minmax_test, y_train, y_test = train_test_split(X_minmax, y_target, random_state=42)\n",
    "\n",
    "X_normal_train, X_normal_test, y_train, y_test = train_test_split(X_normal, y_target, random_state=42)\n",
    "\n",
    "X_robust_train, X_robust_test, y_train, y_test = train_test_split(X_robust, y_target, random_state=42)"
   ],
   "id": "6eee3326a7ebbb55",
   "outputs": [],
   "execution_count": 73
  },
  {
   "metadata": {},
   "cell_type": "markdown",
   "source": "로지스틱 회귀 진행",
   "id": "fb498893eccd9548"
  },
  {
   "metadata": {
    "ExecuteTime": {
     "end_time": "2024-06-03T08:22:43.506633Z",
     "start_time": "2024-06-03T08:22:43.470521Z"
    }
   },
   "cell_type": "code",
   "source": [
    "lgregmodel_std = LogisticRegression()\n",
    "\n",
    "lgregmodel_std.fit(X_std_train, y_train)\n",
    "\n",
    "print('Data split later(std-train):', lgregmodel_std.score(X_std_train, y_train))\n",
    "print('Data split later(std-test):', lgregmodel_std.score(X_std_test, y_test))\n",
    "\n",
    "print()\n",
    "\n",
    "lgregmodel_minmax = LogisticRegression()\n",
    "\n",
    "lgregmodel_minmax.fit(X_minmax_train, y_train)\n",
    "\n",
    "print('Data split later(minmax-train):', lgregmodel_minmax.score(X_minmax_train, y_train))\n",
    "print('Data split later(minmax-test):', lgregmodel_minmax.score(X_minmax_test, y_test))\n",
    "\n",
    "print()\n",
    "\n",
    "lgregmodel_normal = LogisticRegression()\n",
    "\n",
    "lgregmodel_normal.fit(X_normal_train, y_train)\n",
    "\n",
    "print('Data split later(normal-train):', lgregmodel_normal.score(X_normal_train, y_train))\n",
    "print('Data split later(normal-test):', lgregmodel_normal.score(X_normal_test, y_test))\n",
    "\n",
    "print()\n",
    "\n",
    "lgregmodel_robust = LogisticRegression()\n",
    "\n",
    "lgregmodel_robust.fit(X_robust_train, y_train)\n",
    "\n",
    "print('Data split later(robust-train):', lgregmodel_robust.score(X_robust_train, y_train))\n",
    "print('Data split later(robust-test):', lgregmodel_robust.score(X_robust_test, y_test))"
   ],
   "id": "b344745e3ba71f48",
   "outputs": [
    {
     "name": "stdout",
     "output_type": "stream",
     "text": [
      "Data split later(std-train): 0.9859154929577465\n",
      "Data split later(std-test): 0.9790209790209791\n",
      "\n",
      "Data split later(minmax-train): 0.9671361502347418\n",
      "Data split later(minmax-test): 0.986013986013986\n",
      "\n",
      "Data split later(normal-train): 0.7511737089201878\n",
      "Data split later(normal-test): 0.7902097902097902\n",
      "\n",
      "Data split later(robust-train): 0.9882629107981221\n",
      "Data split later(robust-test): 0.986013986013986\n"
     ]
    }
   ],
   "execution_count": 75
  },
  {
   "metadata": {
    "ExecuteTime": {
     "end_time": "2024-06-03T08:14:27.755344Z",
     "start_time": "2024-06-03T08:14:27.751696Z"
    }
   },
   "cell_type": "code",
   "source": [
    "Data split first(std-train): 0.9859154929577465\n",
    "Data split first(std-test): 0.986013986013986\n",
    "\n",
    "Data split first(minmax-train): 0.9671361502347418\n",
    "Data split first(minmax-test): 0.9440559440559441\n",
    "\n",
    "Data split first(normal-train): 0.7511737089201878\n",
    "Data split first(normal-test): 0.7902097902097902\n",
    "\n",
    "Data split first(robust-train): 0.9882629107981221\n",
    "Data split first(robust-test): 0.9790209790209791"
   ],
   "id": "8e5850ce74580730",
   "outputs": [],
   "execution_count": 69
  },
  {
   "metadata": {
    "ExecuteTime": {
     "end_time": "2024-06-03T08:14:27.787131Z",
     "start_time": "2024-06-03T08:14:27.783125Z"
    }
   },
   "cell_type": "code",
   "source": "",
   "id": "ff74d69b6e371c65",
   "outputs": [],
   "execution_count": 69
  },
  {
   "metadata": {
    "ExecuteTime": {
     "end_time": "2024-06-03T08:14:27.906526Z",
     "start_time": "2024-06-03T08:14:27.903004Z"
    }
   },
   "cell_type": "code",
   "source": "",
   "id": "887f4c281a7b3801",
   "outputs": [],
   "execution_count": 69
  },
  {
   "metadata": {},
   "cell_type": "code",
   "outputs": [],
   "execution_count": null,
   "source": "",
   "id": "3cbfd4692b8afcd4"
  }
 ],
 "metadata": {
  "kernelspec": {
   "display_name": "Python 3",
   "language": "python",
   "name": "python3"
  },
  "language_info": {
   "codemirror_mode": {
    "name": "ipython",
    "version": 2
   },
   "file_extension": ".py",
   "mimetype": "text/x-python",
   "name": "python",
   "nbconvert_exporter": "python",
   "pygments_lexer": "ipython2",
   "version": "2.7.6"
  }
 },
 "nbformat": 4,
 "nbformat_minor": 5
}
