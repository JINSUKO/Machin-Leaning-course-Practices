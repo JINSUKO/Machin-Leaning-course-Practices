{
 "cells": [
  {
   "cell_type": "code",
   "id": "66e63ffe7bb6d5f4",
   "metadata": {
    "collapsed": true,
    "ExecuteTime": {
     "end_time": "2024-06-07T00:28:26.076069Z",
     "start_time": "2024-06-07T00:28:25.991168Z"
    }
   },
   "source": [
    "import pandas as pd\n",
    "import seaborn as sns\n",
    "\n",
    "df = sns.load_dataset('titanic')\n",
    "df"
   ],
   "outputs": [
    {
     "data": {
      "text/plain": [
       "     survived  pclass     sex   age  sibsp  parch     fare embarked   class  \\\n",
       "0           0       3    male  22.0      1      0   7.2500        S   Third   \n",
       "1           1       1  female  38.0      1      0  71.2833        C   First   \n",
       "2           1       3  female  26.0      0      0   7.9250        S   Third   \n",
       "3           1       1  female  35.0      1      0  53.1000        S   First   \n",
       "4           0       3    male  35.0      0      0   8.0500        S   Third   \n",
       "..        ...     ...     ...   ...    ...    ...      ...      ...     ...   \n",
       "886         0       2    male  27.0      0      0  13.0000        S  Second   \n",
       "887         1       1  female  19.0      0      0  30.0000        S   First   \n",
       "888         0       3  female   NaN      1      2  23.4500        S   Third   \n",
       "889         1       1    male  26.0      0      0  30.0000        C   First   \n",
       "890         0       3    male  32.0      0      0   7.7500        Q   Third   \n",
       "\n",
       "       who  adult_male deck  embark_town alive  alone  \n",
       "0      man        True  NaN  Southampton    no  False  \n",
       "1    woman       False    C    Cherbourg   yes  False  \n",
       "2    woman       False  NaN  Southampton   yes   True  \n",
       "3    woman       False    C  Southampton   yes  False  \n",
       "4      man        True  NaN  Southampton    no   True  \n",
       "..     ...         ...  ...          ...   ...    ...  \n",
       "886    man        True  NaN  Southampton    no   True  \n",
       "887  woman       False    B  Southampton   yes   True  \n",
       "888  woman       False  NaN  Southampton    no  False  \n",
       "889    man        True    C    Cherbourg   yes   True  \n",
       "890    man        True  NaN   Queenstown    no   True  \n",
       "\n",
       "[891 rows x 15 columns]"
      ],
      "text/html": [
       "<div>\n",
       "<style scoped>\n",
       "    .dataframe tbody tr th:only-of-type {\n",
       "        vertical-align: middle;\n",
       "    }\n",
       "\n",
       "    .dataframe tbody tr th {\n",
       "        vertical-align: top;\n",
       "    }\n",
       "\n",
       "    .dataframe thead th {\n",
       "        text-align: right;\n",
       "    }\n",
       "</style>\n",
       "<table border=\"1\" class=\"dataframe\">\n",
       "  <thead>\n",
       "    <tr style=\"text-align: right;\">\n",
       "      <th></th>\n",
       "      <th>survived</th>\n",
       "      <th>pclass</th>\n",
       "      <th>sex</th>\n",
       "      <th>age</th>\n",
       "      <th>sibsp</th>\n",
       "      <th>parch</th>\n",
       "      <th>fare</th>\n",
       "      <th>embarked</th>\n",
       "      <th>class</th>\n",
       "      <th>who</th>\n",
       "      <th>adult_male</th>\n",
       "      <th>deck</th>\n",
       "      <th>embark_town</th>\n",
       "      <th>alive</th>\n",
       "      <th>alone</th>\n",
       "    </tr>\n",
       "  </thead>\n",
       "  <tbody>\n",
       "    <tr>\n",
       "      <th>0</th>\n",
       "      <td>0</td>\n",
       "      <td>3</td>\n",
       "      <td>male</td>\n",
       "      <td>22.0</td>\n",
       "      <td>1</td>\n",
       "      <td>0</td>\n",
       "      <td>7.2500</td>\n",
       "      <td>S</td>\n",
       "      <td>Third</td>\n",
       "      <td>man</td>\n",
       "      <td>True</td>\n",
       "      <td>NaN</td>\n",
       "      <td>Southampton</td>\n",
       "      <td>no</td>\n",
       "      <td>False</td>\n",
       "    </tr>\n",
       "    <tr>\n",
       "      <th>1</th>\n",
       "      <td>1</td>\n",
       "      <td>1</td>\n",
       "      <td>female</td>\n",
       "      <td>38.0</td>\n",
       "      <td>1</td>\n",
       "      <td>0</td>\n",
       "      <td>71.2833</td>\n",
       "      <td>C</td>\n",
       "      <td>First</td>\n",
       "      <td>woman</td>\n",
       "      <td>False</td>\n",
       "      <td>C</td>\n",
       "      <td>Cherbourg</td>\n",
       "      <td>yes</td>\n",
       "      <td>False</td>\n",
       "    </tr>\n",
       "    <tr>\n",
       "      <th>2</th>\n",
       "      <td>1</td>\n",
       "      <td>3</td>\n",
       "      <td>female</td>\n",
       "      <td>26.0</td>\n",
       "      <td>0</td>\n",
       "      <td>0</td>\n",
       "      <td>7.9250</td>\n",
       "      <td>S</td>\n",
       "      <td>Third</td>\n",
       "      <td>woman</td>\n",
       "      <td>False</td>\n",
       "      <td>NaN</td>\n",
       "      <td>Southampton</td>\n",
       "      <td>yes</td>\n",
       "      <td>True</td>\n",
       "    </tr>\n",
       "    <tr>\n",
       "      <th>3</th>\n",
       "      <td>1</td>\n",
       "      <td>1</td>\n",
       "      <td>female</td>\n",
       "      <td>35.0</td>\n",
       "      <td>1</td>\n",
       "      <td>0</td>\n",
       "      <td>53.1000</td>\n",
       "      <td>S</td>\n",
       "      <td>First</td>\n",
       "      <td>woman</td>\n",
       "      <td>False</td>\n",
       "      <td>C</td>\n",
       "      <td>Southampton</td>\n",
       "      <td>yes</td>\n",
       "      <td>False</td>\n",
       "    </tr>\n",
       "    <tr>\n",
       "      <th>4</th>\n",
       "      <td>0</td>\n",
       "      <td>3</td>\n",
       "      <td>male</td>\n",
       "      <td>35.0</td>\n",
       "      <td>0</td>\n",
       "      <td>0</td>\n",
       "      <td>8.0500</td>\n",
       "      <td>S</td>\n",
       "      <td>Third</td>\n",
       "      <td>man</td>\n",
       "      <td>True</td>\n",
       "      <td>NaN</td>\n",
       "      <td>Southampton</td>\n",
       "      <td>no</td>\n",
       "      <td>True</td>\n",
       "    </tr>\n",
       "    <tr>\n",
       "      <th>...</th>\n",
       "      <td>...</td>\n",
       "      <td>...</td>\n",
       "      <td>...</td>\n",
       "      <td>...</td>\n",
       "      <td>...</td>\n",
       "      <td>...</td>\n",
       "      <td>...</td>\n",
       "      <td>...</td>\n",
       "      <td>...</td>\n",
       "      <td>...</td>\n",
       "      <td>...</td>\n",
       "      <td>...</td>\n",
       "      <td>...</td>\n",
       "      <td>...</td>\n",
       "      <td>...</td>\n",
       "    </tr>\n",
       "    <tr>\n",
       "      <th>886</th>\n",
       "      <td>0</td>\n",
       "      <td>2</td>\n",
       "      <td>male</td>\n",
       "      <td>27.0</td>\n",
       "      <td>0</td>\n",
       "      <td>0</td>\n",
       "      <td>13.0000</td>\n",
       "      <td>S</td>\n",
       "      <td>Second</td>\n",
       "      <td>man</td>\n",
       "      <td>True</td>\n",
       "      <td>NaN</td>\n",
       "      <td>Southampton</td>\n",
       "      <td>no</td>\n",
       "      <td>True</td>\n",
       "    </tr>\n",
       "    <tr>\n",
       "      <th>887</th>\n",
       "      <td>1</td>\n",
       "      <td>1</td>\n",
       "      <td>female</td>\n",
       "      <td>19.0</td>\n",
       "      <td>0</td>\n",
       "      <td>0</td>\n",
       "      <td>30.0000</td>\n",
       "      <td>S</td>\n",
       "      <td>First</td>\n",
       "      <td>woman</td>\n",
       "      <td>False</td>\n",
       "      <td>B</td>\n",
       "      <td>Southampton</td>\n",
       "      <td>yes</td>\n",
       "      <td>True</td>\n",
       "    </tr>\n",
       "    <tr>\n",
       "      <th>888</th>\n",
       "      <td>0</td>\n",
       "      <td>3</td>\n",
       "      <td>female</td>\n",
       "      <td>NaN</td>\n",
       "      <td>1</td>\n",
       "      <td>2</td>\n",
       "      <td>23.4500</td>\n",
       "      <td>S</td>\n",
       "      <td>Third</td>\n",
       "      <td>woman</td>\n",
       "      <td>False</td>\n",
       "      <td>NaN</td>\n",
       "      <td>Southampton</td>\n",
       "      <td>no</td>\n",
       "      <td>False</td>\n",
       "    </tr>\n",
       "    <tr>\n",
       "      <th>889</th>\n",
       "      <td>1</td>\n",
       "      <td>1</td>\n",
       "      <td>male</td>\n",
       "      <td>26.0</td>\n",
       "      <td>0</td>\n",
       "      <td>0</td>\n",
       "      <td>30.0000</td>\n",
       "      <td>C</td>\n",
       "      <td>First</td>\n",
       "      <td>man</td>\n",
       "      <td>True</td>\n",
       "      <td>C</td>\n",
       "      <td>Cherbourg</td>\n",
       "      <td>yes</td>\n",
       "      <td>True</td>\n",
       "    </tr>\n",
       "    <tr>\n",
       "      <th>890</th>\n",
       "      <td>0</td>\n",
       "      <td>3</td>\n",
       "      <td>male</td>\n",
       "      <td>32.0</td>\n",
       "      <td>0</td>\n",
       "      <td>0</td>\n",
       "      <td>7.7500</td>\n",
       "      <td>Q</td>\n",
       "      <td>Third</td>\n",
       "      <td>man</td>\n",
       "      <td>True</td>\n",
       "      <td>NaN</td>\n",
       "      <td>Queenstown</td>\n",
       "      <td>no</td>\n",
       "      <td>True</td>\n",
       "    </tr>\n",
       "  </tbody>\n",
       "</table>\n",
       "<p>891 rows × 15 columns</p>\n",
       "</div>"
      ]
     },
     "execution_count": 1,
     "metadata": {},
     "output_type": "execute_result"
    }
   ],
   "execution_count": 1
  },
  {
   "metadata": {
    "ExecuteTime": {
     "end_time": "2024-06-07T00:28:26.112753Z",
     "start_time": "2024-06-07T00:28:26.077153Z"
    }
   },
   "cell_type": "code",
   "source": [
    "df_age = df.age.copy()\n",
    "\n",
    "pd.isna(df_age.values)\n",
    "df_age_boolean = pd.isna(df_age.values).copy()\n",
    "for i, value in enumerate(df_age_boolean):\n",
    "    if value == True:\n",
    "        df_age_boolean[i] = False\n",
    "    elif value == False:\n",
    "        df_age_boolean[i] = True\n",
    "        \n",
    "df = df[df_age_boolean].reset_index().drop('index', axis=1)\n",
    "df"
   ],
   "id": "6b3da67691ef273f",
   "outputs": [
    {
     "data": {
      "text/plain": [
       "     survived  pclass     sex   age  sibsp  parch     fare embarked   class  \\\n",
       "0           0       3    male  22.0      1      0   7.2500        S   Third   \n",
       "1           1       1  female  38.0      1      0  71.2833        C   First   \n",
       "2           1       3  female  26.0      0      0   7.9250        S   Third   \n",
       "3           1       1  female  35.0      1      0  53.1000        S   First   \n",
       "4           0       3    male  35.0      0      0   8.0500        S   Third   \n",
       "..        ...     ...     ...   ...    ...    ...      ...      ...     ...   \n",
       "709         0       3  female  39.0      0      5  29.1250        Q   Third   \n",
       "710         0       2    male  27.0      0      0  13.0000        S  Second   \n",
       "711         1       1  female  19.0      0      0  30.0000        S   First   \n",
       "712         1       1    male  26.0      0      0  30.0000        C   First   \n",
       "713         0       3    male  32.0      0      0   7.7500        Q   Third   \n",
       "\n",
       "       who  adult_male deck  embark_town alive  alone  \n",
       "0      man        True  NaN  Southampton    no  False  \n",
       "1    woman       False    C    Cherbourg   yes  False  \n",
       "2    woman       False  NaN  Southampton   yes   True  \n",
       "3    woman       False    C  Southampton   yes  False  \n",
       "4      man        True  NaN  Southampton    no   True  \n",
       "..     ...         ...  ...          ...   ...    ...  \n",
       "709  woman       False  NaN   Queenstown    no  False  \n",
       "710    man        True  NaN  Southampton    no   True  \n",
       "711  woman       False    B  Southampton   yes   True  \n",
       "712    man        True    C    Cherbourg   yes   True  \n",
       "713    man        True  NaN   Queenstown    no   True  \n",
       "\n",
       "[714 rows x 15 columns]"
      ],
      "text/html": [
       "<div>\n",
       "<style scoped>\n",
       "    .dataframe tbody tr th:only-of-type {\n",
       "        vertical-align: middle;\n",
       "    }\n",
       "\n",
       "    .dataframe tbody tr th {\n",
       "        vertical-align: top;\n",
       "    }\n",
       "\n",
       "    .dataframe thead th {\n",
       "        text-align: right;\n",
       "    }\n",
       "</style>\n",
       "<table border=\"1\" class=\"dataframe\">\n",
       "  <thead>\n",
       "    <tr style=\"text-align: right;\">\n",
       "      <th></th>\n",
       "      <th>survived</th>\n",
       "      <th>pclass</th>\n",
       "      <th>sex</th>\n",
       "      <th>age</th>\n",
       "      <th>sibsp</th>\n",
       "      <th>parch</th>\n",
       "      <th>fare</th>\n",
       "      <th>embarked</th>\n",
       "      <th>class</th>\n",
       "      <th>who</th>\n",
       "      <th>adult_male</th>\n",
       "      <th>deck</th>\n",
       "      <th>embark_town</th>\n",
       "      <th>alive</th>\n",
       "      <th>alone</th>\n",
       "    </tr>\n",
       "  </thead>\n",
       "  <tbody>\n",
       "    <tr>\n",
       "      <th>0</th>\n",
       "      <td>0</td>\n",
       "      <td>3</td>\n",
       "      <td>male</td>\n",
       "      <td>22.0</td>\n",
       "      <td>1</td>\n",
       "      <td>0</td>\n",
       "      <td>7.2500</td>\n",
       "      <td>S</td>\n",
       "      <td>Third</td>\n",
       "      <td>man</td>\n",
       "      <td>True</td>\n",
       "      <td>NaN</td>\n",
       "      <td>Southampton</td>\n",
       "      <td>no</td>\n",
       "      <td>False</td>\n",
       "    </tr>\n",
       "    <tr>\n",
       "      <th>1</th>\n",
       "      <td>1</td>\n",
       "      <td>1</td>\n",
       "      <td>female</td>\n",
       "      <td>38.0</td>\n",
       "      <td>1</td>\n",
       "      <td>0</td>\n",
       "      <td>71.2833</td>\n",
       "      <td>C</td>\n",
       "      <td>First</td>\n",
       "      <td>woman</td>\n",
       "      <td>False</td>\n",
       "      <td>C</td>\n",
       "      <td>Cherbourg</td>\n",
       "      <td>yes</td>\n",
       "      <td>False</td>\n",
       "    </tr>\n",
       "    <tr>\n",
       "      <th>2</th>\n",
       "      <td>1</td>\n",
       "      <td>3</td>\n",
       "      <td>female</td>\n",
       "      <td>26.0</td>\n",
       "      <td>0</td>\n",
       "      <td>0</td>\n",
       "      <td>7.9250</td>\n",
       "      <td>S</td>\n",
       "      <td>Third</td>\n",
       "      <td>woman</td>\n",
       "      <td>False</td>\n",
       "      <td>NaN</td>\n",
       "      <td>Southampton</td>\n",
       "      <td>yes</td>\n",
       "      <td>True</td>\n",
       "    </tr>\n",
       "    <tr>\n",
       "      <th>3</th>\n",
       "      <td>1</td>\n",
       "      <td>1</td>\n",
       "      <td>female</td>\n",
       "      <td>35.0</td>\n",
       "      <td>1</td>\n",
       "      <td>0</td>\n",
       "      <td>53.1000</td>\n",
       "      <td>S</td>\n",
       "      <td>First</td>\n",
       "      <td>woman</td>\n",
       "      <td>False</td>\n",
       "      <td>C</td>\n",
       "      <td>Southampton</td>\n",
       "      <td>yes</td>\n",
       "      <td>False</td>\n",
       "    </tr>\n",
       "    <tr>\n",
       "      <th>4</th>\n",
       "      <td>0</td>\n",
       "      <td>3</td>\n",
       "      <td>male</td>\n",
       "      <td>35.0</td>\n",
       "      <td>0</td>\n",
       "      <td>0</td>\n",
       "      <td>8.0500</td>\n",
       "      <td>S</td>\n",
       "      <td>Third</td>\n",
       "      <td>man</td>\n",
       "      <td>True</td>\n",
       "      <td>NaN</td>\n",
       "      <td>Southampton</td>\n",
       "      <td>no</td>\n",
       "      <td>True</td>\n",
       "    </tr>\n",
       "    <tr>\n",
       "      <th>...</th>\n",
       "      <td>...</td>\n",
       "      <td>...</td>\n",
       "      <td>...</td>\n",
       "      <td>...</td>\n",
       "      <td>...</td>\n",
       "      <td>...</td>\n",
       "      <td>...</td>\n",
       "      <td>...</td>\n",
       "      <td>...</td>\n",
       "      <td>...</td>\n",
       "      <td>...</td>\n",
       "      <td>...</td>\n",
       "      <td>...</td>\n",
       "      <td>...</td>\n",
       "      <td>...</td>\n",
       "    </tr>\n",
       "    <tr>\n",
       "      <th>709</th>\n",
       "      <td>0</td>\n",
       "      <td>3</td>\n",
       "      <td>female</td>\n",
       "      <td>39.0</td>\n",
       "      <td>0</td>\n",
       "      <td>5</td>\n",
       "      <td>29.1250</td>\n",
       "      <td>Q</td>\n",
       "      <td>Third</td>\n",
       "      <td>woman</td>\n",
       "      <td>False</td>\n",
       "      <td>NaN</td>\n",
       "      <td>Queenstown</td>\n",
       "      <td>no</td>\n",
       "      <td>False</td>\n",
       "    </tr>\n",
       "    <tr>\n",
       "      <th>710</th>\n",
       "      <td>0</td>\n",
       "      <td>2</td>\n",
       "      <td>male</td>\n",
       "      <td>27.0</td>\n",
       "      <td>0</td>\n",
       "      <td>0</td>\n",
       "      <td>13.0000</td>\n",
       "      <td>S</td>\n",
       "      <td>Second</td>\n",
       "      <td>man</td>\n",
       "      <td>True</td>\n",
       "      <td>NaN</td>\n",
       "      <td>Southampton</td>\n",
       "      <td>no</td>\n",
       "      <td>True</td>\n",
       "    </tr>\n",
       "    <tr>\n",
       "      <th>711</th>\n",
       "      <td>1</td>\n",
       "      <td>1</td>\n",
       "      <td>female</td>\n",
       "      <td>19.0</td>\n",
       "      <td>0</td>\n",
       "      <td>0</td>\n",
       "      <td>30.0000</td>\n",
       "      <td>S</td>\n",
       "      <td>First</td>\n",
       "      <td>woman</td>\n",
       "      <td>False</td>\n",
       "      <td>B</td>\n",
       "      <td>Southampton</td>\n",
       "      <td>yes</td>\n",
       "      <td>True</td>\n",
       "    </tr>\n",
       "    <tr>\n",
       "      <th>712</th>\n",
       "      <td>1</td>\n",
       "      <td>1</td>\n",
       "      <td>male</td>\n",
       "      <td>26.0</td>\n",
       "      <td>0</td>\n",
       "      <td>0</td>\n",
       "      <td>30.0000</td>\n",
       "      <td>C</td>\n",
       "      <td>First</td>\n",
       "      <td>man</td>\n",
       "      <td>True</td>\n",
       "      <td>C</td>\n",
       "      <td>Cherbourg</td>\n",
       "      <td>yes</td>\n",
       "      <td>True</td>\n",
       "    </tr>\n",
       "    <tr>\n",
       "      <th>713</th>\n",
       "      <td>0</td>\n",
       "      <td>3</td>\n",
       "      <td>male</td>\n",
       "      <td>32.0</td>\n",
       "      <td>0</td>\n",
       "      <td>0</td>\n",
       "      <td>7.7500</td>\n",
       "      <td>Q</td>\n",
       "      <td>Third</td>\n",
       "      <td>man</td>\n",
       "      <td>True</td>\n",
       "      <td>NaN</td>\n",
       "      <td>Queenstown</td>\n",
       "      <td>no</td>\n",
       "      <td>True</td>\n",
       "    </tr>\n",
       "  </tbody>\n",
       "</table>\n",
       "<p>714 rows × 15 columns</p>\n",
       "</div>"
      ]
     },
     "execution_count": 2,
     "metadata": {},
     "output_type": "execute_result"
    }
   ],
   "execution_count": 2
  },
  {
   "metadata": {
    "ExecuteTime": {
     "end_time": "2024-06-07T00:28:26.130731Z",
     "start_time": "2024-06-07T00:28:26.114817Z"
    }
   },
   "cell_type": "code",
   "source": [
    "df = df[[\"survived\", \"pclass\", \"sex\", \"age\", \"fare\", \"who\", \"adult_male\", \"alone\"]]\n",
    "df "
   ],
   "id": "514c964f0073cb16",
   "outputs": [
    {
     "data": {
      "text/plain": [
       "     survived  pclass     sex   age     fare    who  adult_male  alone\n",
       "0           0       3    male  22.0   7.2500    man        True  False\n",
       "1           1       1  female  38.0  71.2833  woman       False  False\n",
       "2           1       3  female  26.0   7.9250  woman       False   True\n",
       "3           1       1  female  35.0  53.1000  woman       False  False\n",
       "4           0       3    male  35.0   8.0500    man        True   True\n",
       "..        ...     ...     ...   ...      ...    ...         ...    ...\n",
       "709         0       3  female  39.0  29.1250  woman       False  False\n",
       "710         0       2    male  27.0  13.0000    man        True   True\n",
       "711         1       1  female  19.0  30.0000  woman       False   True\n",
       "712         1       1    male  26.0  30.0000    man        True   True\n",
       "713         0       3    male  32.0   7.7500    man        True   True\n",
       "\n",
       "[714 rows x 8 columns]"
      ],
      "text/html": [
       "<div>\n",
       "<style scoped>\n",
       "    .dataframe tbody tr th:only-of-type {\n",
       "        vertical-align: middle;\n",
       "    }\n",
       "\n",
       "    .dataframe tbody tr th {\n",
       "        vertical-align: top;\n",
       "    }\n",
       "\n",
       "    .dataframe thead th {\n",
       "        text-align: right;\n",
       "    }\n",
       "</style>\n",
       "<table border=\"1\" class=\"dataframe\">\n",
       "  <thead>\n",
       "    <tr style=\"text-align: right;\">\n",
       "      <th></th>\n",
       "      <th>survived</th>\n",
       "      <th>pclass</th>\n",
       "      <th>sex</th>\n",
       "      <th>age</th>\n",
       "      <th>fare</th>\n",
       "      <th>who</th>\n",
       "      <th>adult_male</th>\n",
       "      <th>alone</th>\n",
       "    </tr>\n",
       "  </thead>\n",
       "  <tbody>\n",
       "    <tr>\n",
       "      <th>0</th>\n",
       "      <td>0</td>\n",
       "      <td>3</td>\n",
       "      <td>male</td>\n",
       "      <td>22.0</td>\n",
       "      <td>7.2500</td>\n",
       "      <td>man</td>\n",
       "      <td>True</td>\n",
       "      <td>False</td>\n",
       "    </tr>\n",
       "    <tr>\n",
       "      <th>1</th>\n",
       "      <td>1</td>\n",
       "      <td>1</td>\n",
       "      <td>female</td>\n",
       "      <td>38.0</td>\n",
       "      <td>71.2833</td>\n",
       "      <td>woman</td>\n",
       "      <td>False</td>\n",
       "      <td>False</td>\n",
       "    </tr>\n",
       "    <tr>\n",
       "      <th>2</th>\n",
       "      <td>1</td>\n",
       "      <td>3</td>\n",
       "      <td>female</td>\n",
       "      <td>26.0</td>\n",
       "      <td>7.9250</td>\n",
       "      <td>woman</td>\n",
       "      <td>False</td>\n",
       "      <td>True</td>\n",
       "    </tr>\n",
       "    <tr>\n",
       "      <th>3</th>\n",
       "      <td>1</td>\n",
       "      <td>1</td>\n",
       "      <td>female</td>\n",
       "      <td>35.0</td>\n",
       "      <td>53.1000</td>\n",
       "      <td>woman</td>\n",
       "      <td>False</td>\n",
       "      <td>False</td>\n",
       "    </tr>\n",
       "    <tr>\n",
       "      <th>4</th>\n",
       "      <td>0</td>\n",
       "      <td>3</td>\n",
       "      <td>male</td>\n",
       "      <td>35.0</td>\n",
       "      <td>8.0500</td>\n",
       "      <td>man</td>\n",
       "      <td>True</td>\n",
       "      <td>True</td>\n",
       "    </tr>\n",
       "    <tr>\n",
       "      <th>...</th>\n",
       "      <td>...</td>\n",
       "      <td>...</td>\n",
       "      <td>...</td>\n",
       "      <td>...</td>\n",
       "      <td>...</td>\n",
       "      <td>...</td>\n",
       "      <td>...</td>\n",
       "      <td>...</td>\n",
       "    </tr>\n",
       "    <tr>\n",
       "      <th>709</th>\n",
       "      <td>0</td>\n",
       "      <td>3</td>\n",
       "      <td>female</td>\n",
       "      <td>39.0</td>\n",
       "      <td>29.1250</td>\n",
       "      <td>woman</td>\n",
       "      <td>False</td>\n",
       "      <td>False</td>\n",
       "    </tr>\n",
       "    <tr>\n",
       "      <th>710</th>\n",
       "      <td>0</td>\n",
       "      <td>2</td>\n",
       "      <td>male</td>\n",
       "      <td>27.0</td>\n",
       "      <td>13.0000</td>\n",
       "      <td>man</td>\n",
       "      <td>True</td>\n",
       "      <td>True</td>\n",
       "    </tr>\n",
       "    <tr>\n",
       "      <th>711</th>\n",
       "      <td>1</td>\n",
       "      <td>1</td>\n",
       "      <td>female</td>\n",
       "      <td>19.0</td>\n",
       "      <td>30.0000</td>\n",
       "      <td>woman</td>\n",
       "      <td>False</td>\n",
       "      <td>True</td>\n",
       "    </tr>\n",
       "    <tr>\n",
       "      <th>712</th>\n",
       "      <td>1</td>\n",
       "      <td>1</td>\n",
       "      <td>male</td>\n",
       "      <td>26.0</td>\n",
       "      <td>30.0000</td>\n",
       "      <td>man</td>\n",
       "      <td>True</td>\n",
       "      <td>True</td>\n",
       "    </tr>\n",
       "    <tr>\n",
       "      <th>713</th>\n",
       "      <td>0</td>\n",
       "      <td>3</td>\n",
       "      <td>male</td>\n",
       "      <td>32.0</td>\n",
       "      <td>7.7500</td>\n",
       "      <td>man</td>\n",
       "      <td>True</td>\n",
       "      <td>True</td>\n",
       "    </tr>\n",
       "  </tbody>\n",
       "</table>\n",
       "<p>714 rows × 8 columns</p>\n",
       "</div>"
      ]
     },
     "execution_count": 3,
     "metadata": {},
     "output_type": "execute_result"
    }
   ],
   "execution_count": 3
  },
  {
   "metadata": {
    "ExecuteTime": {
     "end_time": "2024-06-07T00:28:26.248946Z",
     "start_time": "2024-06-07T00:28:26.131733Z"
    }
   },
   "cell_type": "code",
   "source": [
    "df_sex = df['sex'].copy()\n",
    "\n",
    "for i, value in enumerate(df_sex):\n",
    "    if value == 'male':\n",
    "        df_sex.loc[i] = 0\n",
    "    elif value == 'female':\n",
    "        df_sex.loc[i] = 1\n",
    "\n",
    "df.sex = df_sex\n",
    "\n",
    "df_who = df['who'].copy()\n",
    "\n",
    "for i, value in enumerate(df_who):\n",
    "    if value == 'man':\n",
    "        df_who.loc[i] = 0\n",
    "    elif value == 'woman':\n",
    "        df_who.loc[i] = 1\n",
    "    elif value == 'child':\n",
    "        df_who.loc[i] = 2\n",
    "\n",
    "df.who = df_who\n",
    "\n",
    "df_adult_male = df['adult_male'].copy()\n",
    "\n",
    "for i, value in enumerate(df_adult_male):\n",
    "    if value == True:\n",
    "        df_adult_male.loc[i] = 0\n",
    "    elif value == False:\n",
    "        df_adult_male.loc[i] = 1\n",
    "\n",
    "df['adult_male'] = df_adult_male\n",
    "\n",
    "df.who = df_who\n",
    "\n",
    "df_alone = df['alone'].copy()\n",
    "\n",
    "for i, value in enumerate(df_alone):\n",
    "    if value == True:\n",
    "        df_alone.loc[i] = 0\n",
    "    elif value == False:\n",
    "        df_alone.loc[i] = 1\n",
    "\n",
    "df.alone = df_alone\n",
    "\n",
    "df"
   ],
   "id": "ce54a69bcf298913",
   "outputs": [
    {
     "name": "stderr",
     "output_type": "stream",
     "text": [
      "C:\\Users\\rhwkw\\AppData\\Local\\Temp\\ipykernel_18196\\3923969448.py:9: SettingWithCopyWarning: \n",
      "A value is trying to be set on a copy of a slice from a DataFrame.\n",
      "Try using .loc[row_indexer,col_indexer] = value instead\n",
      "\n",
      "See the caveats in the documentation: https://pandas.pydata.org/pandas-docs/stable/user_guide/indexing.html#returning-a-view-versus-a-copy\n",
      "  df.sex = df_sex\n",
      "C:\\Users\\rhwkw\\AppData\\Local\\Temp\\ipykernel_18196\\3923969448.py:21: SettingWithCopyWarning: \n",
      "A value is trying to be set on a copy of a slice from a DataFrame.\n",
      "Try using .loc[row_indexer,col_indexer] = value instead\n",
      "\n",
      "See the caveats in the documentation: https://pandas.pydata.org/pandas-docs/stable/user_guide/indexing.html#returning-a-view-versus-a-copy\n",
      "  df.who = df_who\n",
      "C:\\Users\\rhwkw\\AppData\\Local\\Temp\\ipykernel_18196\\3923969448.py:27: FutureWarning: Setting an item of incompatible dtype is deprecated and will raise in a future error of pandas. Value '0' has dtype incompatible with bool, please explicitly cast to a compatible dtype first.\n",
      "  df_adult_male.loc[i] = 0\n",
      "C:\\Users\\rhwkw\\AppData\\Local\\Temp\\ipykernel_18196\\3923969448.py:31: SettingWithCopyWarning: \n",
      "A value is trying to be set on a copy of a slice from a DataFrame.\n",
      "Try using .loc[row_indexer,col_indexer] = value instead\n",
      "\n",
      "See the caveats in the documentation: https://pandas.pydata.org/pandas-docs/stable/user_guide/indexing.html#returning-a-view-versus-a-copy\n",
      "  df['adult_male'] = df_adult_male\n",
      "C:\\Users\\rhwkw\\AppData\\Local\\Temp\\ipykernel_18196\\3923969448.py:33: SettingWithCopyWarning: \n",
      "A value is trying to be set on a copy of a slice from a DataFrame.\n",
      "Try using .loc[row_indexer,col_indexer] = value instead\n",
      "\n",
      "See the caveats in the documentation: https://pandas.pydata.org/pandas-docs/stable/user_guide/indexing.html#returning-a-view-versus-a-copy\n",
      "  df.who = df_who\n",
      "C:\\Users\\rhwkw\\AppData\\Local\\Temp\\ipykernel_18196\\3923969448.py:41: FutureWarning: Setting an item of incompatible dtype is deprecated and will raise in a future error of pandas. Value '1' has dtype incompatible with bool, please explicitly cast to a compatible dtype first.\n",
      "  df_alone.loc[i] = 1\n",
      "C:\\Users\\rhwkw\\AppData\\Local\\Temp\\ipykernel_18196\\3923969448.py:43: SettingWithCopyWarning: \n",
      "A value is trying to be set on a copy of a slice from a DataFrame.\n",
      "Try using .loc[row_indexer,col_indexer] = value instead\n",
      "\n",
      "See the caveats in the documentation: https://pandas.pydata.org/pandas-docs/stable/user_guide/indexing.html#returning-a-view-versus-a-copy\n",
      "  df.alone = df_alone\n"
     ]
    },
    {
     "data": {
      "text/plain": [
       "     survived  pclass sex   age     fare who adult_male alone\n",
       "0           0       3   0  22.0   7.2500   0          0     1\n",
       "1           1       1   1  38.0  71.2833   1          1     1\n",
       "2           1       3   1  26.0   7.9250   1          1     0\n",
       "3           1       1   1  35.0  53.1000   1          1     1\n",
       "4           0       3   0  35.0   8.0500   0          0     0\n",
       "..        ...     ...  ..   ...      ...  ..        ...   ...\n",
       "709         0       3   1  39.0  29.1250   1          1     1\n",
       "710         0       2   0  27.0  13.0000   0          0     0\n",
       "711         1       1   1  19.0  30.0000   1          1     0\n",
       "712         1       1   0  26.0  30.0000   0          0     0\n",
       "713         0       3   0  32.0   7.7500   0          0     0\n",
       "\n",
       "[714 rows x 8 columns]"
      ],
      "text/html": [
       "<div>\n",
       "<style scoped>\n",
       "    .dataframe tbody tr th:only-of-type {\n",
       "        vertical-align: middle;\n",
       "    }\n",
       "\n",
       "    .dataframe tbody tr th {\n",
       "        vertical-align: top;\n",
       "    }\n",
       "\n",
       "    .dataframe thead th {\n",
       "        text-align: right;\n",
       "    }\n",
       "</style>\n",
       "<table border=\"1\" class=\"dataframe\">\n",
       "  <thead>\n",
       "    <tr style=\"text-align: right;\">\n",
       "      <th></th>\n",
       "      <th>survived</th>\n",
       "      <th>pclass</th>\n",
       "      <th>sex</th>\n",
       "      <th>age</th>\n",
       "      <th>fare</th>\n",
       "      <th>who</th>\n",
       "      <th>adult_male</th>\n",
       "      <th>alone</th>\n",
       "    </tr>\n",
       "  </thead>\n",
       "  <tbody>\n",
       "    <tr>\n",
       "      <th>0</th>\n",
       "      <td>0</td>\n",
       "      <td>3</td>\n",
       "      <td>0</td>\n",
       "      <td>22.0</td>\n",
       "      <td>7.2500</td>\n",
       "      <td>0</td>\n",
       "      <td>0</td>\n",
       "      <td>1</td>\n",
       "    </tr>\n",
       "    <tr>\n",
       "      <th>1</th>\n",
       "      <td>1</td>\n",
       "      <td>1</td>\n",
       "      <td>1</td>\n",
       "      <td>38.0</td>\n",
       "      <td>71.2833</td>\n",
       "      <td>1</td>\n",
       "      <td>1</td>\n",
       "      <td>1</td>\n",
       "    </tr>\n",
       "    <tr>\n",
       "      <th>2</th>\n",
       "      <td>1</td>\n",
       "      <td>3</td>\n",
       "      <td>1</td>\n",
       "      <td>26.0</td>\n",
       "      <td>7.9250</td>\n",
       "      <td>1</td>\n",
       "      <td>1</td>\n",
       "      <td>0</td>\n",
       "    </tr>\n",
       "    <tr>\n",
       "      <th>3</th>\n",
       "      <td>1</td>\n",
       "      <td>1</td>\n",
       "      <td>1</td>\n",
       "      <td>35.0</td>\n",
       "      <td>53.1000</td>\n",
       "      <td>1</td>\n",
       "      <td>1</td>\n",
       "      <td>1</td>\n",
       "    </tr>\n",
       "    <tr>\n",
       "      <th>4</th>\n",
       "      <td>0</td>\n",
       "      <td>3</td>\n",
       "      <td>0</td>\n",
       "      <td>35.0</td>\n",
       "      <td>8.0500</td>\n",
       "      <td>0</td>\n",
       "      <td>0</td>\n",
       "      <td>0</td>\n",
       "    </tr>\n",
       "    <tr>\n",
       "      <th>...</th>\n",
       "      <td>...</td>\n",
       "      <td>...</td>\n",
       "      <td>...</td>\n",
       "      <td>...</td>\n",
       "      <td>...</td>\n",
       "      <td>...</td>\n",
       "      <td>...</td>\n",
       "      <td>...</td>\n",
       "    </tr>\n",
       "    <tr>\n",
       "      <th>709</th>\n",
       "      <td>0</td>\n",
       "      <td>3</td>\n",
       "      <td>1</td>\n",
       "      <td>39.0</td>\n",
       "      <td>29.1250</td>\n",
       "      <td>1</td>\n",
       "      <td>1</td>\n",
       "      <td>1</td>\n",
       "    </tr>\n",
       "    <tr>\n",
       "      <th>710</th>\n",
       "      <td>0</td>\n",
       "      <td>2</td>\n",
       "      <td>0</td>\n",
       "      <td>27.0</td>\n",
       "      <td>13.0000</td>\n",
       "      <td>0</td>\n",
       "      <td>0</td>\n",
       "      <td>0</td>\n",
       "    </tr>\n",
       "    <tr>\n",
       "      <th>711</th>\n",
       "      <td>1</td>\n",
       "      <td>1</td>\n",
       "      <td>1</td>\n",
       "      <td>19.0</td>\n",
       "      <td>30.0000</td>\n",
       "      <td>1</td>\n",
       "      <td>1</td>\n",
       "      <td>0</td>\n",
       "    </tr>\n",
       "    <tr>\n",
       "      <th>712</th>\n",
       "      <td>1</td>\n",
       "      <td>1</td>\n",
       "      <td>0</td>\n",
       "      <td>26.0</td>\n",
       "      <td>30.0000</td>\n",
       "      <td>0</td>\n",
       "      <td>0</td>\n",
       "      <td>0</td>\n",
       "    </tr>\n",
       "    <tr>\n",
       "      <th>713</th>\n",
       "      <td>0</td>\n",
       "      <td>3</td>\n",
       "      <td>0</td>\n",
       "      <td>32.0</td>\n",
       "      <td>7.7500</td>\n",
       "      <td>0</td>\n",
       "      <td>0</td>\n",
       "      <td>0</td>\n",
       "    </tr>\n",
       "  </tbody>\n",
       "</table>\n",
       "<p>714 rows × 8 columns</p>\n",
       "</div>"
      ]
     },
     "execution_count": 4,
     "metadata": {},
     "output_type": "execute_result"
    }
   ],
   "execution_count": 4
  },
  {
   "metadata": {
    "ExecuteTime": {
     "end_time": "2024-06-07T00:28:26.272410Z",
     "start_time": "2024-06-07T00:28:26.250968Z"
    }
   },
   "cell_type": "code",
   "source": [
    "df['sex'] = df['sex'].astype('int64')\n",
    "df['who'] = df['who'].astype('int64')\n",
    "df['adult_male'] = df['adult_male'].astype('int64')\n",
    "df['alone'] = df['alone'].astype('int64')\n",
    "\n",
    "df.info()"
   ],
   "id": "c21cdd5a7294d25b",
   "outputs": [
    {
     "name": "stdout",
     "output_type": "stream",
     "text": [
      "<class 'pandas.core.frame.DataFrame'>\n",
      "RangeIndex: 714 entries, 0 to 713\n",
      "Data columns (total 8 columns):\n",
      " #   Column      Non-Null Count  Dtype  \n",
      "---  ------      --------------  -----  \n",
      " 0   survived    714 non-null    int64  \n",
      " 1   pclass      714 non-null    int64  \n",
      " 2   sex         714 non-null    int64  \n",
      " 3   age         714 non-null    float64\n",
      " 4   fare        714 non-null    float64\n",
      " 5   who         714 non-null    int64  \n",
      " 6   adult_male  714 non-null    int64  \n",
      " 7   alone       714 non-null    int64  \n",
      "dtypes: float64(2), int64(6)\n",
      "memory usage: 44.8 KB\n"
     ]
    },
    {
     "name": "stderr",
     "output_type": "stream",
     "text": [
      "C:\\Users\\rhwkw\\AppData\\Local\\Temp\\ipykernel_18196\\3153093855.py:1: SettingWithCopyWarning: \n",
      "A value is trying to be set on a copy of a slice from a DataFrame.\n",
      "Try using .loc[row_indexer,col_indexer] = value instead\n",
      "\n",
      "See the caveats in the documentation: https://pandas.pydata.org/pandas-docs/stable/user_guide/indexing.html#returning-a-view-versus-a-copy\n",
      "  df['sex'] = df['sex'].astype('int64')\n",
      "C:\\Users\\rhwkw\\AppData\\Local\\Temp\\ipykernel_18196\\3153093855.py:2: SettingWithCopyWarning: \n",
      "A value is trying to be set on a copy of a slice from a DataFrame.\n",
      "Try using .loc[row_indexer,col_indexer] = value instead\n",
      "\n",
      "See the caveats in the documentation: https://pandas.pydata.org/pandas-docs/stable/user_guide/indexing.html#returning-a-view-versus-a-copy\n",
      "  df['who'] = df['who'].astype('int64')\n",
      "C:\\Users\\rhwkw\\AppData\\Local\\Temp\\ipykernel_18196\\3153093855.py:3: SettingWithCopyWarning: \n",
      "A value is trying to be set on a copy of a slice from a DataFrame.\n",
      "Try using .loc[row_indexer,col_indexer] = value instead\n",
      "\n",
      "See the caveats in the documentation: https://pandas.pydata.org/pandas-docs/stable/user_guide/indexing.html#returning-a-view-versus-a-copy\n",
      "  df['adult_male'] = df['adult_male'].astype('int64')\n",
      "C:\\Users\\rhwkw\\AppData\\Local\\Temp\\ipykernel_18196\\3153093855.py:4: SettingWithCopyWarning: \n",
      "A value is trying to be set on a copy of a slice from a DataFrame.\n",
      "Try using .loc[row_indexer,col_indexer] = value instead\n",
      "\n",
      "See the caveats in the documentation: https://pandas.pydata.org/pandas-docs/stable/user_guide/indexing.html#returning-a-view-versus-a-copy\n",
      "  df['alone'] = df['alone'].astype('int64')\n"
     ]
    }
   ],
   "execution_count": 5
  },
  {
   "metadata": {
    "ExecuteTime": {
     "end_time": "2024-06-07T00:28:26.295924Z",
     "start_time": "2024-06-07T00:28:26.276420Z"
    }
   },
   "cell_type": "code",
   "source": [
    "y_classes = df.survived\n",
    "x_data = df[['pclass', 'sex', 'age', 'fare', 'who', 'adult_male', 'alone']]\n",
    "\n",
    "x_data"
   ],
   "id": "initial_id",
   "outputs": [
    {
     "data": {
      "text/plain": [
       "     pclass  sex   age     fare  who  adult_male  alone\n",
       "0         3    0  22.0   7.2500    0           0      1\n",
       "1         1    1  38.0  71.2833    1           1      1\n",
       "2         3    1  26.0   7.9250    1           1      0\n",
       "3         1    1  35.0  53.1000    1           1      1\n",
       "4         3    0  35.0   8.0500    0           0      0\n",
       "..      ...  ...   ...      ...  ...         ...    ...\n",
       "709       3    1  39.0  29.1250    1           1      1\n",
       "710       2    0  27.0  13.0000    0           0      0\n",
       "711       1    1  19.0  30.0000    1           1      0\n",
       "712       1    0  26.0  30.0000    0           0      0\n",
       "713       3    0  32.0   7.7500    0           0      0\n",
       "\n",
       "[714 rows x 7 columns]"
      ],
      "text/html": [
       "<div>\n",
       "<style scoped>\n",
       "    .dataframe tbody tr th:only-of-type {\n",
       "        vertical-align: middle;\n",
       "    }\n",
       "\n",
       "    .dataframe tbody tr th {\n",
       "        vertical-align: top;\n",
       "    }\n",
       "\n",
       "    .dataframe thead th {\n",
       "        text-align: right;\n",
       "    }\n",
       "</style>\n",
       "<table border=\"1\" class=\"dataframe\">\n",
       "  <thead>\n",
       "    <tr style=\"text-align: right;\">\n",
       "      <th></th>\n",
       "      <th>pclass</th>\n",
       "      <th>sex</th>\n",
       "      <th>age</th>\n",
       "      <th>fare</th>\n",
       "      <th>who</th>\n",
       "      <th>adult_male</th>\n",
       "      <th>alone</th>\n",
       "    </tr>\n",
       "  </thead>\n",
       "  <tbody>\n",
       "    <tr>\n",
       "      <th>0</th>\n",
       "      <td>3</td>\n",
       "      <td>0</td>\n",
       "      <td>22.0</td>\n",
       "      <td>7.2500</td>\n",
       "      <td>0</td>\n",
       "      <td>0</td>\n",
       "      <td>1</td>\n",
       "    </tr>\n",
       "    <tr>\n",
       "      <th>1</th>\n",
       "      <td>1</td>\n",
       "      <td>1</td>\n",
       "      <td>38.0</td>\n",
       "      <td>71.2833</td>\n",
       "      <td>1</td>\n",
       "      <td>1</td>\n",
       "      <td>1</td>\n",
       "    </tr>\n",
       "    <tr>\n",
       "      <th>2</th>\n",
       "      <td>3</td>\n",
       "      <td>1</td>\n",
       "      <td>26.0</td>\n",
       "      <td>7.9250</td>\n",
       "      <td>1</td>\n",
       "      <td>1</td>\n",
       "      <td>0</td>\n",
       "    </tr>\n",
       "    <tr>\n",
       "      <th>3</th>\n",
       "      <td>1</td>\n",
       "      <td>1</td>\n",
       "      <td>35.0</td>\n",
       "      <td>53.1000</td>\n",
       "      <td>1</td>\n",
       "      <td>1</td>\n",
       "      <td>1</td>\n",
       "    </tr>\n",
       "    <tr>\n",
       "      <th>4</th>\n",
       "      <td>3</td>\n",
       "      <td>0</td>\n",
       "      <td>35.0</td>\n",
       "      <td>8.0500</td>\n",
       "      <td>0</td>\n",
       "      <td>0</td>\n",
       "      <td>0</td>\n",
       "    </tr>\n",
       "    <tr>\n",
       "      <th>...</th>\n",
       "      <td>...</td>\n",
       "      <td>...</td>\n",
       "      <td>...</td>\n",
       "      <td>...</td>\n",
       "      <td>...</td>\n",
       "      <td>...</td>\n",
       "      <td>...</td>\n",
       "    </tr>\n",
       "    <tr>\n",
       "      <th>709</th>\n",
       "      <td>3</td>\n",
       "      <td>1</td>\n",
       "      <td>39.0</td>\n",
       "      <td>29.1250</td>\n",
       "      <td>1</td>\n",
       "      <td>1</td>\n",
       "      <td>1</td>\n",
       "    </tr>\n",
       "    <tr>\n",
       "      <th>710</th>\n",
       "      <td>2</td>\n",
       "      <td>0</td>\n",
       "      <td>27.0</td>\n",
       "      <td>13.0000</td>\n",
       "      <td>0</td>\n",
       "      <td>0</td>\n",
       "      <td>0</td>\n",
       "    </tr>\n",
       "    <tr>\n",
       "      <th>711</th>\n",
       "      <td>1</td>\n",
       "      <td>1</td>\n",
       "      <td>19.0</td>\n",
       "      <td>30.0000</td>\n",
       "      <td>1</td>\n",
       "      <td>1</td>\n",
       "      <td>0</td>\n",
       "    </tr>\n",
       "    <tr>\n",
       "      <th>712</th>\n",
       "      <td>1</td>\n",
       "      <td>0</td>\n",
       "      <td>26.0</td>\n",
       "      <td>30.0000</td>\n",
       "      <td>0</td>\n",
       "      <td>0</td>\n",
       "      <td>0</td>\n",
       "    </tr>\n",
       "    <tr>\n",
       "      <th>713</th>\n",
       "      <td>3</td>\n",
       "      <td>0</td>\n",
       "      <td>32.0</td>\n",
       "      <td>7.7500</td>\n",
       "      <td>0</td>\n",
       "      <td>0</td>\n",
       "      <td>0</td>\n",
       "    </tr>\n",
       "  </tbody>\n",
       "</table>\n",
       "<p>714 rows × 7 columns</p>\n",
       "</div>"
      ]
     },
     "execution_count": 6,
     "metadata": {},
     "output_type": "execute_result"
    }
   ],
   "execution_count": 6
  },
  {
   "metadata": {
    "ExecuteTime": {
     "end_time": "2024-06-07T00:28:26.822519Z",
     "start_time": "2024-06-07T00:28:26.298935Z"
    }
   },
   "cell_type": "code",
   "source": [
    "from sklearn.model_selection import train_test_split\n",
    "\n",
    "X_train, X_test, y_train, y_test = train_test_split(x_data, y_classes, random_state=42)"
   ],
   "id": "e6159e1b644294d9",
   "outputs": [],
   "execution_count": 7
  },
  {
   "metadata": {
    "ExecuteTime": {
     "end_time": "2024-06-07T00:28:26.845142Z",
     "start_time": "2024-06-07T00:28:26.823526Z"
    }
   },
   "cell_type": "code",
   "source": "X_train",
   "id": "3be43c43b48272d0",
   "outputs": [
    {
     "data": {
      "text/plain": [
       "     pclass  sex   age      fare  who  adult_male  alone\n",
       "649       2    0  35.0   10.5000    0           0      0\n",
       "360       3    1   5.0   19.2583    2           1      1\n",
       "518       3    1  32.0   15.5000    1           1      1\n",
       "248       1    1  18.0  262.3750    1           1      1\n",
       "344       1    0  28.0   26.5500    0           0      0\n",
       "..      ...  ...   ...       ...  ...         ...    ...\n",
       "71        1    0  46.0   61.1750    0           0      1\n",
       "106       2    0  25.0   13.0000    0           0      0\n",
       "270       1    1  41.0  134.5000    1           1      0\n",
       "435       3    0  33.0   20.5250    0           0      1\n",
       "102       3    0  33.0    7.8958    0           0      0\n",
       "\n",
       "[535 rows x 7 columns]"
      ],
      "text/html": [
       "<div>\n",
       "<style scoped>\n",
       "    .dataframe tbody tr th:only-of-type {\n",
       "        vertical-align: middle;\n",
       "    }\n",
       "\n",
       "    .dataframe tbody tr th {\n",
       "        vertical-align: top;\n",
       "    }\n",
       "\n",
       "    .dataframe thead th {\n",
       "        text-align: right;\n",
       "    }\n",
       "</style>\n",
       "<table border=\"1\" class=\"dataframe\">\n",
       "  <thead>\n",
       "    <tr style=\"text-align: right;\">\n",
       "      <th></th>\n",
       "      <th>pclass</th>\n",
       "      <th>sex</th>\n",
       "      <th>age</th>\n",
       "      <th>fare</th>\n",
       "      <th>who</th>\n",
       "      <th>adult_male</th>\n",
       "      <th>alone</th>\n",
       "    </tr>\n",
       "  </thead>\n",
       "  <tbody>\n",
       "    <tr>\n",
       "      <th>649</th>\n",
       "      <td>2</td>\n",
       "      <td>0</td>\n",
       "      <td>35.0</td>\n",
       "      <td>10.5000</td>\n",
       "      <td>0</td>\n",
       "      <td>0</td>\n",
       "      <td>0</td>\n",
       "    </tr>\n",
       "    <tr>\n",
       "      <th>360</th>\n",
       "      <td>3</td>\n",
       "      <td>1</td>\n",
       "      <td>5.0</td>\n",
       "      <td>19.2583</td>\n",
       "      <td>2</td>\n",
       "      <td>1</td>\n",
       "      <td>1</td>\n",
       "    </tr>\n",
       "    <tr>\n",
       "      <th>518</th>\n",
       "      <td>3</td>\n",
       "      <td>1</td>\n",
       "      <td>32.0</td>\n",
       "      <td>15.5000</td>\n",
       "      <td>1</td>\n",
       "      <td>1</td>\n",
       "      <td>1</td>\n",
       "    </tr>\n",
       "    <tr>\n",
       "      <th>248</th>\n",
       "      <td>1</td>\n",
       "      <td>1</td>\n",
       "      <td>18.0</td>\n",
       "      <td>262.3750</td>\n",
       "      <td>1</td>\n",
       "      <td>1</td>\n",
       "      <td>1</td>\n",
       "    </tr>\n",
       "    <tr>\n",
       "      <th>344</th>\n",
       "      <td>1</td>\n",
       "      <td>0</td>\n",
       "      <td>28.0</td>\n",
       "      <td>26.5500</td>\n",
       "      <td>0</td>\n",
       "      <td>0</td>\n",
       "      <td>0</td>\n",
       "    </tr>\n",
       "    <tr>\n",
       "      <th>...</th>\n",
       "      <td>...</td>\n",
       "      <td>...</td>\n",
       "      <td>...</td>\n",
       "      <td>...</td>\n",
       "      <td>...</td>\n",
       "      <td>...</td>\n",
       "      <td>...</td>\n",
       "    </tr>\n",
       "    <tr>\n",
       "      <th>71</th>\n",
       "      <td>1</td>\n",
       "      <td>0</td>\n",
       "      <td>46.0</td>\n",
       "      <td>61.1750</td>\n",
       "      <td>0</td>\n",
       "      <td>0</td>\n",
       "      <td>1</td>\n",
       "    </tr>\n",
       "    <tr>\n",
       "      <th>106</th>\n",
       "      <td>2</td>\n",
       "      <td>0</td>\n",
       "      <td>25.0</td>\n",
       "      <td>13.0000</td>\n",
       "      <td>0</td>\n",
       "      <td>0</td>\n",
       "      <td>0</td>\n",
       "    </tr>\n",
       "    <tr>\n",
       "      <th>270</th>\n",
       "      <td>1</td>\n",
       "      <td>1</td>\n",
       "      <td>41.0</td>\n",
       "      <td>134.5000</td>\n",
       "      <td>1</td>\n",
       "      <td>1</td>\n",
       "      <td>0</td>\n",
       "    </tr>\n",
       "    <tr>\n",
       "      <th>435</th>\n",
       "      <td>3</td>\n",
       "      <td>0</td>\n",
       "      <td>33.0</td>\n",
       "      <td>20.5250</td>\n",
       "      <td>0</td>\n",
       "      <td>0</td>\n",
       "      <td>1</td>\n",
       "    </tr>\n",
       "    <tr>\n",
       "      <th>102</th>\n",
       "      <td>3</td>\n",
       "      <td>0</td>\n",
       "      <td>33.0</td>\n",
       "      <td>7.8958</td>\n",
       "      <td>0</td>\n",
       "      <td>0</td>\n",
       "      <td>0</td>\n",
       "    </tr>\n",
       "  </tbody>\n",
       "</table>\n",
       "<p>535 rows × 7 columns</p>\n",
       "</div>"
      ]
     },
     "execution_count": 8,
     "metadata": {},
     "output_type": "execute_result"
    }
   ],
   "execution_count": 8
  },
  {
   "metadata": {
    "ExecuteTime": {
     "end_time": "2024-06-07T00:28:26.865439Z",
     "start_time": "2024-06-07T00:28:26.846832Z"
    }
   },
   "cell_type": "code",
   "source": [
    "from sklearn.preprocessing import Normalizer\n",
    "\n",
    "normalizer = Normalizer()\n",
    "\n",
    "X_train_normal = normalizer.fit_transform(X_train)\n",
    "\n",
    "X_test_normal = normalizer.fit_transform(X_test)"
   ],
   "id": "eeeca564fc5bd136",
   "outputs": [],
   "execution_count": 9
  },
  {
   "metadata": {
    "ExecuteTime": {
     "end_time": "2024-06-07T00:28:27.066624Z",
     "start_time": "2024-06-07T00:28:26.867447Z"
    }
   },
   "cell_type": "code",
   "source": [
    "from sklearn.linear_model import LogisticRegression\n",
    "\n",
    "logisModel = LogisticRegression(random_state=42)"
   ],
   "id": "11cced5c4f620e6b",
   "outputs": [],
   "execution_count": 10
  },
  {
   "metadata": {},
   "cell_type": "markdown",
   "source": "Cross-validation, 교차검증",
   "id": "ce120cc14ae04aee"
  },
  {
   "metadata": {},
   "cell_type": "markdown",
   "source": "교차검증 하지 않고 train 으로 학습 후 test로 검증 진행 ",
   "id": "bca59fad1293db9b"
  },
  {
   "metadata": {
    "ExecuteTime": {
     "end_time": "2024-06-07T00:28:27.326114Z",
     "start_time": "2024-06-07T00:28:27.069750Z"
    }
   },
   "cell_type": "code",
   "source": [
    "logisModel.fit(X_train_normal, y_train)\n",
    "print(logisModel.score(X_train_normal, y_train))\n",
    "print(logisModel.score(X_test_normal, y_test))\n",
    "logisModel.coef_, logisModel.intercept_"
   ],
   "id": "de1824611a65429c",
   "outputs": [
    {
     "name": "stdout",
     "output_type": "stream",
     "text": [
      "0.7121495327102804\n",
      "0.6368715083798883\n"
     ]
    },
    {
     "data": {
      "text/plain": [
       "(array([[-0.50153433,  1.33253789, -0.73891406,  2.00500446,  1.35650342,\n",
       "          1.26186165, -0.03404131]]),\n",
       " array([-1.04184326]))"
      ]
     },
     "execution_count": 11,
     "metadata": {},
     "output_type": "execute_result"
    }
   ],
   "execution_count": 11
  },
  {
   "metadata": {},
   "cell_type": "markdown",
   "source": "K == 5 로 진행해서 가장 높게 얻은 하이퍼파라미터로 test 검증 진행",
   "id": "85904ca17fce4dec"
  },
  {
   "metadata": {
    "ExecuteTime": {
     "end_time": "2024-06-07T00:28:27.344341Z",
     "start_time": "2024-06-07T00:28:27.336135Z"
    }
   },
   "cell_type": "code",
   "source": [
    "from sklearn.model_selection import cross_validate, StratifiedKFold\n",
    "\n",
    "import numpy as np"
   ],
   "id": "a67c0f098f81eb8e",
   "outputs": [],
   "execution_count": 12
  },
  {
   "metadata": {
    "ExecuteTime": {
     "end_time": "2024-06-07T00:28:27.864813Z",
     "start_time": "2024-06-07T00:28:27.346871Z"
    }
   },
   "cell_type": "code",
   "source": [
    "\n",
    "scores_dict_5 = cross_validate(logisModel, X_train_normal, y_train, cv=StratifiedKFold(n_splits=5, shuffle=True, random_state=42), return_estimator=True)\n",
    "\n",
    "print(scores_dict_5['fit_time'], scores_dict_5['score_time'], scores_dict_5['test_score'], np.mean(scores_dict_5['test_score']))\n",
    "print()"
   ],
   "id": "aec79d9364763d56",
   "outputs": [
    {
     "name": "stdout",
     "output_type": "stream",
     "text": [
      "[0.12631273 0.02308154 0.12612939 0.07672024 0.01766467] [0.0021143  0.00305796 0.00309253 0.00200009 0.00199747] [0.72897196 0.71028037 0.6635514  0.71962617 0.71028037] 0.7065420560747664\n",
      "\n"
     ]
    }
   ],
   "execution_count": 13
  },
  {
   "metadata": {
    "ExecuteTime": {
     "end_time": "2024-06-07T00:28:27.890002Z",
     "start_time": "2024-06-07T00:28:27.870823Z"
    }
   },
   "cell_type": "code",
   "source": [
    "logisModel.coef_ = scores_dict_5['estimator'][0].coef_\n",
    "logisModel.intercept_ = scores_dict_5['estimator'][0].intercept_\n",
    "logisModel.classes_ = scores_dict_5['estimator'][0].classes_\n",
    "print(logisModel.score(X_train_normal, y_train))\n",
    "print(logisModel.score(X_test_normal, y_test))"
   ],
   "id": "9a13a563c0253508",
   "outputs": [
    {
     "name": "stdout",
     "output_type": "stream",
     "text": [
      "0.708411214953271\n",
      "0.6424581005586593\n"
     ]
    }
   ],
   "execution_count": 14
  },
  {
   "metadata": {},
   "cell_type": "markdown",
   "source": [
    "K == 10 로 진행해서 가장 높게 얻은 하이퍼파라미터로 *train 학습 후* test 검증 진행\n",
    "\n",
    " -> 검증을 해서 학습이 잘 되고 있다고 판단되면 train 학습을 진행 안함\n",
    "\n",
    "K == 10 로 진행해서 가장 높게 얻은 하이퍼파라미터로 test 검증 진행"
   ],
   "id": "ffbd58d07d46b167"
  },
  {
   "metadata": {
    "ExecuteTime": {
     "end_time": "2024-06-07T00:28:29.966280Z",
     "start_time": "2024-06-07T00:28:27.892973Z"
    }
   },
   "cell_type": "code",
   "source": [
    "scores_dict_10 = cross_validate(logisModel, X_train_normal, y_train, cv=StratifiedKFold(n_splits=10, shuffle=True, random_state=42), return_estimator=True)\n",
    "\n",
    "print(scores_dict_10['fit_time'], scores_dict_10['score_time'], scores_dict_10['test_score'], np.mean(scores_dict_10['test_score']))"
   ],
   "id": "57cbf823b2f0e5d2",
   "outputs": [
    {
     "name": "stdout",
     "output_type": "stream",
     "text": [
      "[0.24468875 0.72477055 0.01683307 0.01319671 0.05233192 0.46003962\n",
      " 0.31619525 0.04320145 0.01080656 0.03438234] [0.06824589 0.00545239 0.00099921 0.00117636 0.00285506 0.00915527\n",
      " 0.00422096 0.00200844 0.00132537 0.0020082 ] [0.68518519 0.77777778 0.64814815 0.77777778 0.68518519 0.60377358\n",
      " 0.69811321 0.73584906 0.73584906 0.71698113] 0.7064640111809923\n"
     ]
    }
   ],
   "execution_count": 15
  },
  {
   "metadata": {},
   "cell_type": "markdown",
   "source": "",
   "id": "a9e96024dad59758"
  },
  {
   "metadata": {
    "ExecuteTime": {
     "end_time": "2024-06-07T00:28:30.007709Z",
     "start_time": "2024-06-07T00:28:29.974854Z"
    }
   },
   "cell_type": "code",
   "source": [
    "logisModel.coef_ = scores_dict_5['estimator'][1].coef_\n",
    "logisModel.intercept_ = scores_dict_5['estimator'][1].intercept_\n",
    "logisModel.classes_ = scores_dict_5['estimator'][1].classes_\n",
    "print(logisModel.coef_)\n",
    "print(logisModel.score(X_train_normal, y_train))\n",
    "print(logisModel.score(X_test_normal, y_test))\n",
    "print()\n",
    "\n",
    "logisModel.coef_ = scores_dict_5['estimator'][3].coef_\n",
    "logisModel.intercept_ = scores_dict_5['estimator'][3].intercept_\n",
    "logisModel.classes_ = scores_dict_5['estimator'][3].classes_\n",
    "print(logisModel.coef_)\n",
    "print(logisModel.score(X_train_normal, y_train))\n",
    "print(logisModel.score(X_test_normal, y_test))"
   ],
   "id": "3cc447bd65c82831",
   "outputs": [
    {
     "name": "stdout",
     "output_type": "stream",
     "text": [
      "[[-0.35294269  1.17641974 -0.88557788  1.98326442  1.18137616  1.06880092\n",
      "   0.08576904]]\n",
      "0.708411214953271\n",
      "0.6424581005586593\n",
      "\n",
      "[[-0.33807594  1.14761173 -0.5771397   2.02489736  1.16092195  1.08850439\n",
      "  -0.01778456]]\n",
      "0.708411214953271\n",
      "0.6424581005586593\n"
     ]
    }
   ],
   "execution_count": 16
  },
  {
   "metadata": {
    "ExecuteTime": {
     "end_time": "2024-06-07T00:28:30.713220Z",
     "start_time": "2024-06-07T00:28:30.010862Z"
    }
   },
   "cell_type": "code",
   "source": [
    "from sklearn.tree import DecisionTreeClassifier\n",
    "\n",
    "import matplotlib.pyplot as plt\n",
    "    \n",
    "for i in [1, 2, 3, 4, 5, 10, 20, 50, 100]:\n",
    "    from sklearn.tree import plot_tree\n",
    "    DTClassifiermodel = DecisionTreeClassifier(max_depth=i, random_state=42)\n",
    "    DTClassifiermodel.fit(X_train_normal, y_train)\n",
    "    \n",
    "    print(f'max_depth={i}', DTClassifiermodel.score(X_train_normal, y_train))\n",
    "    print(f'max_depth={i}', DTClassifiermodel.score(X_test_normal, y_test))\n",
    "    # print(DTClassifiermodel.feature_importances_)\n",
    "    # print()\n",
    "    # \n",
    "    # plt.figure(figsize=(7, 5))\n",
    "    # plot_tree(DTClassifiermodel, max_depth=2, filled=True, feature_names=['pclass', 'sex', 'age', 'fare', 'who', 'adult_male', 'alone'])\n",
    "    # plt.show()\n",
    "    # print()\n"
   ],
   "id": "4a6dfe542af3e6e0",
   "outputs": [
    {
     "name": "stdout",
     "output_type": "stream",
     "text": [
      "max_depth=1 0.7869158878504673\n",
      "max_depth=1 0.770949720670391\n",
      "max_depth=2 0.7869158878504673\n",
      "max_depth=2 0.770949720670391\n",
      "max_depth=3 0.8317757009345794\n",
      "max_depth=3 0.7597765363128491\n",
      "max_depth=4 0.8411214953271028\n",
      "max_depth=4 0.7206703910614525\n",
      "max_depth=5 0.8841121495327103\n",
      "max_depth=5 0.7597765363128491\n",
      "max_depth=10 0.9738317757009346\n",
      "max_depth=10 0.7653631284916201\n",
      "max_depth=20 0.9925233644859813\n",
      "max_depth=20 0.7094972067039106\n",
      "max_depth=50 0.9925233644859813\n",
      "max_depth=50 0.7094972067039106\n",
      "max_depth=100 0.9925233644859813\n",
      "max_depth=100 0.7094972067039106\n"
     ]
    }
   ],
   "execution_count": 17
  },
  {
   "metadata": {},
   "cell_type": "markdown",
   "source": "교차검증 하지 않고 train 으로 학습 후 test로 검증 진행 ",
   "id": "1b5130c675123103"
  },
  {
   "metadata": {
    "ExecuteTime": {
     "end_time": "2024-06-07T00:28:30.782844Z",
     "start_time": "2024-06-07T00:28:30.721863Z"
    }
   },
   "cell_type": "code",
   "source": [
    "DTClassifiermodel = DecisionTreeClassifier(max_depth=2, random_state=42)\n",
    "DTClassifiermodel.fit(X_train_normal, y_train)\n",
    "\n",
    "print(DTClassifiermodel.score(X_train_normal, y_train))\n",
    "print(DTClassifiermodel.score(X_test_normal, y_test))"
   ],
   "id": "65ef7525d8f68fa9",
   "outputs": [
    {
     "name": "stdout",
     "output_type": "stream",
     "text": [
      "0.7869158878504673\n",
      "0.770949720670391\n"
     ]
    }
   ],
   "execution_count": 18
  },
  {
   "metadata": {},
   "cell_type": "markdown",
   "source": "K == 5 로 진행해서 가장 높게 얻은 하이퍼파라미터로 train 학습 후 test 검증 진행",
   "id": "d2b306a885da3720"
  },
  {
   "metadata": {
    "ExecuteTime": {
     "end_time": "2024-06-07T00:28:31.068290Z",
     "start_time": "2024-06-07T00:28:30.787889Z"
    }
   },
   "cell_type": "code",
   "source": [
    "scores_dict_5 = cross_validate(DTClassifiermodel, X_train_normal, y_train, cv=StratifiedKFold(n_splits=5, shuffle=True, random_state=42), return_estimator=True)\n",
    "\n",
    "DTClassifiermodel = scores_dict_5['estimator'][0]\n",
    "\n",
    "print(DTClassifiermodel.score(X_train_normal, y_train))\n",
    "print(DTClassifiermodel.score(X_test_normal, y_test))\n",
    "scores_dict_5"
   ],
   "id": "802aedfab468bc07",
   "outputs": [
    {
     "name": "stdout",
     "output_type": "stream",
     "text": [
      "0.7869158878504673\n",
      "0.770949720670391\n"
     ]
    },
    {
     "data": {
      "text/plain": [
       "{'fit_time': array([0.01638484, 0.03831625, 0.01417637, 0.02519393, 0.02445292]),\n",
       " 'score_time': array([0.00199461, 0.0035665 , 0.03437567, 0.00597   , 0.00199842]),\n",
       " 'estimator': [DecisionTreeClassifier(max_depth=2, random_state=42),\n",
       "  DecisionTreeClassifier(max_depth=2, random_state=42),\n",
       "  DecisionTreeClassifier(max_depth=2, random_state=42),\n",
       "  DecisionTreeClassifier(max_depth=2, random_state=42),\n",
       "  DecisionTreeClassifier(max_depth=2, random_state=42)],\n",
       " 'test_score': array([0.85046729, 0.75700935, 0.82242991, 0.72897196, 0.75700935])}"
      ]
     },
     "execution_count": 19,
     "metadata": {},
     "output_type": "execute_result"
    }
   ],
   "execution_count": 19
  },
  {
   "metadata": {},
   "cell_type": "markdown",
   "source": "K == 10 로 진행해서 가장 높게 얻은 하이퍼파라미터로 train 학습 후 test 검증 진행",
   "id": "e0fb5ea4a70e26d4"
  },
  {
   "metadata": {
    "ExecuteTime": {
     "end_time": "2024-06-07T00:28:31.306853Z",
     "start_time": "2024-06-07T00:28:31.095291Z"
    }
   },
   "cell_type": "code",
   "source": [
    "scores_dict_10 = cross_validate(DTClassifiermodel, X_train_normal, y_train, cv=StratifiedKFold(n_splits=10, shuffle=True, random_state=42), return_estimator=True)\n",
    "\n",
    "DTClassifiermodel = scores_dict_10['estimator'][0]\n",
    "\n",
    "print(DTClassifiermodel.score(X_train_normal, y_train))\n",
    "print(DTClassifiermodel.score(X_test_normal, y_test))\n",
    "scores_dict_10"
   ],
   "id": "127204d853672ef2",
   "outputs": [
    {
     "name": "stdout",
     "output_type": "stream",
     "text": [
      "0.7869158878504673\n",
      "0.770949720670391\n"
     ]
    },
    {
     "data": {
      "text/plain": [
       "{'fit_time': array([0.00799799, 0.00843787, 0.01860523, 0.00499868, 0.00500011,\n",
       "        0.02143645, 0.00499868, 0.00399804, 0.00499415, 0.01241446]),\n",
       " 'score_time': array([0.00800204, 0.00406861, 0.00300193, 0.01500034, 0.01858616,\n",
       "        0.00299978, 0.00200868, 0.00200176, 0.00251675, 0.00235295]),\n",
       " 'estimator': [DecisionTreeClassifier(max_depth=2, random_state=42),\n",
       "  DecisionTreeClassifier(max_depth=2, random_state=42),\n",
       "  DecisionTreeClassifier(max_depth=2, random_state=42),\n",
       "  DecisionTreeClassifier(max_depth=2, random_state=42),\n",
       "  DecisionTreeClassifier(max_depth=2, random_state=42),\n",
       "  DecisionTreeClassifier(max_depth=2, random_state=42),\n",
       "  DecisionTreeClassifier(max_depth=2, random_state=42),\n",
       "  DecisionTreeClassifier(max_depth=2, random_state=42),\n",
       "  DecisionTreeClassifier(max_depth=2, random_state=42),\n",
       "  DecisionTreeClassifier(max_depth=2, random_state=42)],\n",
       " 'test_score': array([0.88888889, 0.7962963 , 0.75925926, 0.75925926, 0.83333333,\n",
       "        0.81132075, 0.79245283, 0.66037736, 0.73584906, 0.79245283])}"
      ]
     },
     "execution_count": 20,
     "metadata": {},
     "output_type": "execute_result"
    }
   ],
   "execution_count": 20
  },
  {
   "metadata": {
    "ExecuteTime": {
     "end_time": "2024-06-07T00:28:31.344400Z",
     "start_time": "2024-06-07T00:28:31.314851Z"
    }
   },
   "cell_type": "code",
   "source": [
    "from sklearn.metrics import confusion_matrix\n",
    "\n",
    "y_pred_logis = logisModel.predict(X_test_normal)\n",
    "\n",
    "logis_metrix = confusion_matrix(y_test, y_pred_logis) \n",
    "logis_metrix"
   ],
   "id": "840cf6caf18348c2",
   "outputs": [
    {
     "data": {
      "text/plain": [
       "array([[86, 21],\n",
       "       [43, 29]], dtype=int64)"
      ]
     },
     "execution_count": 21,
     "metadata": {},
     "output_type": "execute_result"
    }
   ],
   "execution_count": 21
  },
  {
   "metadata": {},
   "cell_type": "markdown",
   "source": [
    " 결정트리는 하이퍼파라미터에 따라 달라지지 않았다.  \n",
    " 데이터의 특성 중요도에 점수가 달라진다."
   ],
   "id": "ef0b358556d25b90"
  },
  {
   "metadata": {
    "ExecuteTime": {
     "end_time": "2024-06-07T00:28:31.371001Z",
     "start_time": "2024-06-07T00:28:31.349340Z"
    }
   },
   "cell_type": "code",
   "source": [
    "print(\"TN, FP, FN, TP:\", logis_metrix.ravel())\n",
    "logis_TN, logis_FP, logis_FN, logis_TP = logis_metrix.ravel()"
   ],
   "id": "5598a940207ea9c3",
   "outputs": [
    {
     "name": "stdout",
     "output_type": "stream",
     "text": [
      "TN, FP, FN, TP: [86 21 43 29]\n"
     ]
    }
   ],
   "execution_count": 22
  },
  {
   "metadata": {
    "ExecuteTime": {
     "end_time": "2024-06-07T00:28:31.948149Z",
     "start_time": "2024-06-07T00:28:31.375014Z"
    }
   },
   "cell_type": "code",
   "source": [
    "import matplotlib.pyplot as plt\n",
    "\n",
    "class_labels = ['Dead', 'Survived']\n",
    "\n",
    "fig = plt.figure()\n",
    "\n",
    "fig.set_size_inches([5, 5])\n",
    "\n",
    "plt.imshow(logis_metrix, interpolation='nearest') \n",
    "plt.xticks([0, 1], class_labels)\n",
    "plt.yticks([0, 1], class_labels)\n",
    "plt.xlabel('Predicted')\n",
    "plt.ylabel('True')\n",
    "plt.title('Logistic Regression')\n",
    "for i in range(logis_metrix.shape[0]):\n",
    "    for j in range(logis_metrix.shape[1]):\n",
    "        plt.text(j, i, logis_metrix[i, j], ha='center', va='center')\n",
    "plt.set_cmap('Blues')\n",
    "plt.grid(False)\n",
    "    \n",
    "fig.tight_layout()\n",
    "\n",
    "plt.show()"
   ],
   "id": "903c1dcef804e80d",
   "outputs": [
    {
     "data": {
      "text/plain": [
       "<Figure size 500x500 with 1 Axes>"
      ],
      "image/png": "[encoded data removed]"
     },
     "metadata": {},
     "output_type": "display_data"
    }
   ],
   "execution_count": 23
  },
  {
   "metadata": {
    "ExecuteTime": {
     "end_time": "2024-06-07T00:28:31.966855Z",
     "start_time": "2024-06-07T00:28:31.955364Z"
    }
   },
   "cell_type": "code",
   "source": [
    "import matplotlib.pyplot as plt\n",
    "\n",
    "y_pred_decision = DTClassifiermodel.predict(X_test_normal)\n",
    "\n",
    "decision_metrix = confusion_matrix(y_test, y_pred_decision) \n",
    "decision_metrix"
   ],
   "id": "b835067f0cee90d8",
   "outputs": [
    {
     "data": {
      "text/plain": [
       "array([[83, 24],\n",
       "       [17, 55]], dtype=int64)"
      ]
     },
     "execution_count": 24,
     "metadata": {},
     "output_type": "execute_result"
    }
   ],
   "execution_count": 24
  },
  {
   "metadata": {
    "ExecuteTime": {
     "end_time": "2024-06-07T00:28:31.976206Z",
     "start_time": "2024-06-07T00:28:31.969925Z"
    }
   },
   "cell_type": "code",
   "source": [
    "print(\"TN, FP, FN, TP:\", decision_metrix.ravel())\n",
    "decision_TN, decision_FP, decision_FN, decision_TP = decision_metrix.ravel()"
   ],
   "id": "2bed284c0a2af07d",
   "outputs": [
    {
     "name": "stdout",
     "output_type": "stream",
     "text": [
      "TN, FP, FN, TP: [83 24 17 55]\n"
     ]
    }
   ],
   "execution_count": 25
  },
  {
   "metadata": {
    "ExecuteTime": {
     "end_time": "2024-06-07T00:28:32.238731Z",
     "start_time": "2024-06-07T00:28:31.978218Z"
    }
   },
   "cell_type": "code",
   "source": [
    "\n",
    "class_labels = ['Dead', 'Survived']\n",
    "\n",
    "fig = plt.figure()\n",
    "\n",
    "fig.set_size_inches([5, 5])\n",
    "\n",
    "plt.imshow(decision_metrix, interpolation='nearest') \n",
    "plt.xticks([0, 1], class_labels)\n",
    "plt.yticks([0, 1], class_labels)\n",
    "plt.xlabel('Predicted')\n",
    "plt.ylabel('True')\n",
    "plt.title('Decision Tree')\n",
    "for i in range(decision_metrix.shape[0]):\n",
    "    for j in range(decision_metrix.shape[1]):\n",
    "        plt.text(j, i, decision_metrix[i, j], ha='center', va='center')\n",
    "plt.set_cmap('Blues')\n",
    "plt.grid(False)\n",
    "    \n",
    "fig.tight_layout()\n",
    "\n",
    "plt.show()"
   ],
   "id": "54ca752ab3c22f4f",
   "outputs": [
    {
     "data": {
      "text/plain": [
       "<Figure size 500x500 with 1 Axes>"
      ],
      "image/png": "[encoded data removed]"
     },
     "metadata": {},
     "output_type": "display_data"
    }
   ],
   "execution_count": 26
  },
  {
   "metadata": {
    "ExecuteTime": {
     "end_time": "2024-06-07T00:28:32.261435Z",
     "start_time": "2024-06-07T00:28:32.240741Z"
    }
   },
   "cell_type": "code",
   "source": [
    "# 전체 예측(양성, 음성)에서 정답을 잘 맞춘 것\n",
    "logis_accuracy = (logis_TP + logis_TN) / (logis_TN + logis_FP + logis_FN + logis_TP )\n",
    "decision_accuracy = (decision_TP + decision_TN) / (decision_TN + decision_FP + decision_FN + decision_TP )\n",
    "\n",
    "print('logis_accuracy: ', logis_accuracy, '\\ndecision_accuracy: ', decision_accuracy)\n",
    "print()\n",
    "# \"양성으로 예측\"한 것 중 \"실제 양성\"인 것\n",
    "logis_precision = logis_TP/ (logis_FP + logis_TP)\n",
    "decision_precision = decision_TP/ (decision_FP + decision_TP)\n",
    "\n",
    "print('logis_precision: ', logis_precision, '\\ndecision_precision: ', decision_precision)\n",
    "print()\n",
    "\n",
    "# \"실제 음성\"인데 \"예측을 음성\"이라고 한 것\n",
    "logis_specificity = logis_TN / (logis_TN + logis_FP)\n",
    "decision_specificity = decision_TN / (decision_TN + decision_FP)\n",
    "\n",
    "print('logis_specificity: ', logis_specificity, '\\ndecision_specificity: ', decision_specificity)\n",
    "print()\n",
    "\n",
    "# \"실제 양성\"인데 \"예측을 양성\"이라고 한 것\n",
    "logis_sensitivity = logis_TP / (logis_TP + logis_FN)\n",
    "decision_sensitivity = decision_TP / (decision_TP + decision_FN)\n",
    "\n",
    "print('logis_sensitivity: ', logis_sensitivity, '\\ndecision_sensitivity: ', decision_sensitivity)\n",
    "print()\n",
    "\n",
    "# \"음성으로 예측\"한 것들 중 \"실제 음성\"인 것\n",
    "logis_NPV = logis_TN / (logis_TN + logis_FN)\n",
    "decision_NPV = decision_TN / (decision_TN + decision_FN)\n",
    "\n",
    "print('logis_NPV: ', logis_NPV, '\\ndecision_NPV: ', decision_NPV)\n",
    "print()\n",
    "\n",
    "# \"실제 양성\" 중에서 \"예측을 음성\"으로 분류한 비율\n",
    "logis_FNR = logis_FN / (logis_FN + logis_TP)\n",
    "decision_FNR = decision_FN / (decision_FN + decision_TP)\n",
    "\n",
    "print('logis_FNR: ', logis_FNR, '\\ndecision_FNR: ', decision_FNR)\n",
    "print()\n",
    "\n",
    "# \"실제 양성\" 중에서 \"예측을 양성\"으로 분류한 비율\n",
    "logis_TPR = logis_TP / (logis_TP + logis_FN)\n",
    "decision_TPR = decision_TP / (decision_FN + decision_TP)\n",
    "\n",
    "print('logis_TPR: ', logis_TPR, '\\ndecision_TPR: ', decision_TPR)\n",
    "print()\n",
    "\n",
    "\n",
    "# \"실제 음성\" 중에서 \"예측을 양성\"으로 분류한 비율\n",
    "logis_FPR = logis_FP / (logis_TN + logis_FP)\n",
    "decision_FPR = decision_FP / (decision_TN + decision_FP)\n",
    "\n",
    "print('logis_FPR: ', logis_FPR, '\\ndecision_FPR: ', decision_FPR)\n",
    "print()\n"
   ],
   "id": "93c8a296748c2eb",
   "outputs": [
    {
     "name": "stdout",
     "output_type": "stream",
     "text": [
      "logis_accuracy:  0.6424581005586593 \n",
      "decision_accuracy:  0.770949720670391\n",
      "\n",
      "logis_precision:  0.58 \n",
      "decision_precision:  0.6962025316455697\n",
      "\n",
      "logis_specificity:  0.8037383177570093 \n",
      "decision_specificity:  0.7757009345794392\n",
      "\n",
      "logis_sensitivity:  0.4027777777777778 \n",
      "decision_sensitivity:  0.7638888888888888\n",
      "\n",
      "logis_NPV:  0.6666666666666666 \n",
      "decision_NPV:  0.83\n",
      "\n",
      "logis_FNR:  0.5972222222222222 \n",
      "decision_FNR:  0.2361111111111111\n",
      "\n",
      "logis_TPR:  0.4027777777777778 \n",
      "decision_TPR:  0.7638888888888888\n",
      "\n",
      "logis_FPR:  0.19626168224299065 \n",
      "decision_FPR:  0.22429906542056074\n",
      "\n"
     ]
    }
   ],
   "execution_count": 27
  },
  {
   "metadata": {
    "ExecuteTime": {
     "end_time": "2024-06-07T00:28:32.276663Z",
     "start_time": "2024-06-07T00:28:32.263752Z"
    }
   },
   "cell_type": "code",
   "source": [
    "# 조화 평균(정밀도와 민감도를 이용한 점수)\n",
    "logis_f1_score = 2 * ((logis_precision*logis_sensitivity) / (logis_precision+logis_sensitivity))\n",
    "decision_f1_score = 2 * ((decision_precision*decision_sensitivity) / (decision_precision+decision_sensitivity))\n",
    "\n",
    "print('logis f1-score(조화평균):', logis_f1_score)\n",
    "print('decision f1-score(조화평균):', decision_f1_score)"
   ],
   "id": "4266cb168c7a3ad3",
   "outputs": [
    {
     "name": "stdout",
     "output_type": "stream",
     "text": [
      "logis f1-score(조화평균): 0.47540983606557374\n",
      "decision f1-score(조화평균): 0.7284768211920529\n"
     ]
    }
   ],
   "execution_count": 28
  },
  {
   "metadata": {
    "ExecuteTime": {
     "end_time": "2024-06-07T00:28:32.335598Z",
     "start_time": "2024-06-07T00:28:32.278672Z"
    }
   },
   "cell_type": "code",
   "source": [
    "from sklearn.metrics import classification_report\n",
    "\n",
    "# 모형 성능 평가 - 평가지표 계산\n",
    "logis_report = classification_report(y_test, y_pred_logis)            \n",
    "print(logis_report)\n",
    "\n",
    "decision_report = classification_report(y_test, y_pred_decision)            \n",
    "print(decision_report)"
   ],
   "id": "dd095834637f40e0",
   "outputs": [
    {
     "name": "stdout",
     "output_type": "stream",
     "text": [
      "              precision    recall  f1-score   support\n",
      "\n",
      "           0       0.67      0.80      0.73       107\n",
      "           1       0.58      0.40      0.48        72\n",
      "\n",
      "    accuracy                           0.64       179\n",
      "   macro avg       0.62      0.60      0.60       179\n",
      "weighted avg       0.63      0.64      0.63       179\n",
      "\n",
      "              precision    recall  f1-score   support\n",
      "\n",
      "           0       0.83      0.78      0.80       107\n",
      "           1       0.70      0.76      0.73        72\n",
      "\n",
      "    accuracy                           0.77       179\n",
      "   macro avg       0.76      0.77      0.77       179\n",
      "weighted avg       0.78      0.77      0.77       179\n",
      "\n"
     ]
    }
   ],
   "execution_count": 29
  },
  {
   "metadata": {
    "ExecuteTime": {
     "end_time": "2024-06-07T00:28:33.217948Z",
     "start_time": "2024-06-07T00:28:32.338607Z"
    }
   },
   "cell_type": "code",
   "source": [
    "import matplotlib.pyplot as plt\n",
    "from sklearn.metrics import roc_curve, auc\n",
    "\n",
    "# test data의 예측 확률을 얻음\n",
    "y_prob_logis = logisModel.predict_proba(X_test_normal)[:, 1]  # 클래스 1 (생존)에 대한 예측 확률\n",
    "y_prob_decision = DTClassifiermodel.predict_proba(X_test_normal)[:, 1]  # 클래스 1 (생존)에 대한 예측 확률\n",
    "\n",
    "# ROC 커브 생성\n",
    "fpr_logis, tpr_logis, thresholds_logis = roc_curve(y_test, y_prob_logis)\n",
    "fpr_decision, tpr_decision, thresholds_decision = roc_curve(y_test, y_prob_decision)\n",
    "\n",
    "# AUC 계산\n",
    "roc_auc_logis = auc(fpr_logis, tpr_logis)\n",
    "roc_auc_decision = auc(fpr_decision, tpr_decision)\n",
    "\n",
    "# ROC 커브 그리기\n",
    "plt.figure(figsize=(8, 6))\n",
    "plt.plot(fpr_logis, tpr_logis, color='darkorange', lw=2, label='ROC curve (area = %0.2f)' % roc_auc_logis)\n",
    "plt.plot([0, 1], [0, 1], color='navy', lw=2, linestyle='--')\n",
    "plt.xlim([0.0, 1.0])\n",
    "plt.ylim([0.0, 1.05])\n",
    "plt.xlabel('False Positive Rate')\n",
    "plt.ylabel('True Positive Rate')\n",
    "plt.title('Receiver Operating Characteristic (ROC) Curve of Logistic Regression')\n",
    "plt.legend(loc='lower right')\n",
    "plt.show()\n",
    "\n",
    "# ROC 커브 그리기\n",
    "plt.figure(figsize=(8, 6))\n",
    "plt.plot(fpr_decision, tpr_decision, color='darkorange', lw=2, label='ROC curve (area = %0.2f)' % roc_auc_decision)\n",
    "plt.plot([0, 1], [0, 1], color='navy', lw=2, linestyle='--')\n",
    "plt.xlim([0.0, 1.0])\n",
    "plt.ylim([0.0, 1.05])\n",
    "plt.xlabel('False Positive Rate')\n",
    "plt.ylabel('True Positive Rate')\n",
    "plt.title('Receiver Operating Characteristic (ROC) Curve of Decision Tree')\n",
    "plt.legend(loc='lower right')\n",
    "plt.show()"
   ],
   "id": "c661fffdac6a0979",
   "outputs": [
    {
     "data": {
      "text/plain": [
       "<Figure size 800x600 with 1 Axes>"
      ],
      "image/png": "[encoded data removed]"
     },
     "metadata": {},
     "output_type": "display_data"
    },
    {
     "data": {
      "text/plain": [
       "<Figure size 800x600 with 1 Axes>"
      ],
      "image/png": "[encoded data removed]"
     },
     "metadata": {},
     "output_type": "display_data"
    }
   ],
   "execution_count": 30
  },
  {
   "metadata": {
    "ExecuteTime": {
     "end_time": "2024-06-07T00:28:33.222425Z",
     "start_time": "2024-06-07T00:28:33.218958Z"
    }
   },
   "cell_type": "code",
   "source": "",
   "id": "2de51f1db96e6b34",
   "outputs": [],
   "execution_count": 30
  }
 ],
 "metadata": {
  "kernelspec": {
   "display_name": "Python 3",
   "language": "python",
   "name": "python3"
  },
  "language_info": {
   "codemirror_mode": {
    "name": "ipython",
    "version": 2
   },
   "file_extension": ".py",
   "mimetype": "text/x-python",
   "name": "python",
   "nbconvert_exporter": "python",
   "pygments_lexer": "ipython2",
   "version": "2.7.6"
  }
 },
 "nbformat": 4,
 "nbformat_minor": 5
}
